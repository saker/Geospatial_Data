{
 "cells": [
  {
   "cell_type": "markdown",
   "metadata": {
    "collapsed": true
   },
   "source": [
    "# Introduction to Geospatial Data Analysis with GDAL"
   ]
  },
  {
   "cell_type": "markdown",
   "metadata": {},
   "source": [
    "## Shapefile"
   ]
  },
  {
   "cell_type": "code",
   "execution_count": null,
   "metadata": {
    "collapsed": true
   },
   "outputs": [],
   "source": [
    "import ogr\n",
    "driver = ogr.GetDriverByName('ESRI Shapefile')\n",
    "datasource = driver.Open('D:\\\\Conversion_Area\\\\Python_Training\\\\Data\\\\Admin_BKK.shp', 0)\n",
    "layer = datasource.GetLayer()"
   ]
  },
  {
   "cell_type": "markdown",
   "metadata": {},
   "source": [
    "## FileGDB"
   ]
  },
  {
   "cell_type": "code",
   "execution_count": null,
   "metadata": {
    "collapsed": true
   },
   "outputs": [],
   "source": [
    "import ogr\n",
    "driver = ogr.GetDriverByName('FileGDB')\n",
    "datasource = driver.Open('D:\\\\Conversion_Area\\\\Python_Training\\\\Data\\\\NOSTRA_Base_Sample.gdb', 0)"
   ]
  },
  {
   "cell_type": "markdown",
   "metadata": {},
   "source": [
    "## Layer Information"
   ]
  },
  {
   "cell_type": "code",
   "execution_count": null,
   "metadata": {
    "collapsed": true
   },
   "outputs": [],
   "source": [
    "#For ShapeFile\n",
    "print 'No. of Layers: %d'%datasource.GetLayerCount()"
   ]
  },
  {
   "cell_type": "code",
   "execution_count": null,
   "metadata": {
    "collapsed": true
   },
   "outputs": [],
   "source": [
    "#For FileGDB\n",
    "for n in range(0, datasource.GetLayerCount()):\n",
    "    layer = datasource.GetLayer(n)\n",
    "    print layer.GetName(), layer.GetGeomType(), layer.GetFeatureCount()"
   ]
  },
  {
   "cell_type": "code",
   "execution_count": null,
   "metadata": {
    "collapsed": true
   },
   "outputs": [],
   "source": [
    "print 'No. of Layers: %d'%datasource.GetLayerCount()\n",
    "print 'No. of Features(Records): %d'%layer.GetFeatureCount()\n",
    "print 'Layer Name: %s'%layer.GetName()"
   ]
  },
  {
   "cell_type": "code",
   "execution_count": null,
   "metadata": {
    "collapsed": true
   },
   "outputs": [],
   "source": [
    "print 'Layer Extent:'\n",
    "ext = layer.GetExtent()\n",
    "print ext"
   ]
  },
  {
   "cell_type": "code",
   "execution_count": null,
   "metadata": {
    "collapsed": true
   },
   "outputs": [],
   "source": [
    "print 'X-Min: %f'%ext[0]\n",
    "print 'X-Max: %f'%ext[1]\n",
    "print 'Y-Min: %f'%ext[2]\n",
    "print 'Y-Max: %f'%ext[3]"
   ]
  },
  {
   "cell_type": "markdown",
   "metadata": {},
   "source": [
    "## List of Shapefile & no. of features in folder"
   ]
  },
  {
   "cell_type": "code",
   "execution_count": null,
   "metadata": {
    "collapsed": true
   },
   "outputs": [],
   "source": [
    "import ogr\n",
    "import glob\n",
    "\n",
    "driver = ogr.GetDriverByName('ESRI Shapefile')\n",
    "for fn in glob.glob('D:\\\\Conversion_Area\\\\Python_Training\\\\Data\\\\*.shp'):\n",
    "    datasource =  driver.Open(fn, 0)\n",
    "    layer = datasource.GetLayer()\n",
    "    print 'Layer:%s\\tNo. features(%d)'%(layer.GetName(), layer.GetFeatureCount())\n",
    "    datasource.Destroy()"
   ]
  },
  {
   "cell_type": "markdown",
   "metadata": {},
   "source": [
    "## Getting Feature (Use GetFeature)"
   ]
  },
  {
   "cell_type": "code",
   "execution_count": null,
   "metadata": {
    "collapsed": true
   },
   "outputs": [],
   "source": [
    "FID = 0\n",
    "feature = layer.GetFeature(FID)\n",
    "print 'ID: %d'%feature.GetField('ID')\n",
    "print 'ADMIN_ID: %s'%feature.GetFieldAsString('ADMIN_ID')\n",
    "print 'NAME1: %s'%feature.GetField('NAME1').decode('CP874')\n",
    "print 'NAME_ENG1: %s'%feature.GetField('NAME_ENG1')"
   ]
  },
  {
   "cell_type": "markdown",
   "metadata": {},
   "source": [
    "## Getting Feature (Use GetNextFeature)"
   ]
  },
  {
   "cell_type": "code",
   "execution_count": null,
   "metadata": {
    "collapsed": true
   },
   "outputs": [],
   "source": [
    "feature = layer.GetNextFeature()\n",
    "while feature:\n",
    "    print 'ID: %d'%feature.GetField('ID')\n",
    "    print 'ADMIN_ID: %s'%feature.GetFieldAsString('ADMIN_ID')\n",
    "    print 'NAME1: %s'%feature.GetField('NAME1').decode('CP874')\n",
    "    print 'NAME_ENG1: %s'%feature.GetField('NAME_ENG1')\n",
    "    feature.Destroy()\n",
    "    feature = layer.GetNextFeature()"
   ]
  },
  {
   "cell_type": "markdown",
   "metadata": {},
   "source": [
    "## Get Geometry/Attribute from each Feature in a Layer"
   ]
  },
  {
   "cell_type": "code",
   "execution_count": null,
   "metadata": {
    "collapsed": true
   },
   "outputs": [],
   "source": [
    "#-*-coding:UTF-8-*-\n",
    "\n",
    "import ogr\n",
    "\n",
    "driver = ogr.GetDriverByName('ESRI Shapefile')\n",
    "datasource = driver.Open('D:\\\\Conversion_Area\\\\Python_Training\\\\Data\\\\Landmark_Sample.shp', 0)\n",
    "layer = datasource.GetLayer()\n",
    "recset = layer.GetNextFeature()\n",
    "while recset:\n",
    "    geom = recset.GetGeometryRef()\n",
    "    POI_Code = recset.GetField('POI_CODE')\n",
    "    Name = recset.GetFieldAsString('NAME').decode('CP874')\n",
    "    print POI_Code, Name, geom.GetX(), geom.GetY()\n",
    "    recset.Destroy()\n",
    "    recset = layer.GetNextFeature()\n",
    "\n",
    "datasource.Destroy()  "
   ]
  },
  {
   "cell_type": "markdown",
   "metadata": {},
   "source": [
    "## Create New Feature"
   ]
  },
  {
   "cell_type": "code",
   "execution_count": null,
   "metadata": {
    "collapsed": true
   },
   "outputs": [],
   "source": [
    "import ogr\n",
    "import os\n",
    "\n",
    "#(1) Define Datasource (Shapefile filename)\n",
    "driver = ogr.GetDriverByName('ESRI Shapefile')\n",
    "output_fn = 'D:\\\\Conversion_Area\\\\Python_Training\\\\Data\\\\New_Point.shp'\n",
    "#Check Existing Shapefile \n",
    "if os.path.exists(output_fn):\n",
    "    driver.DeleteDataSource(output_fn)\n",
    "datasource = driver.CreateDataSource(output_fn)\n",
    "\n",
    "#(2) Create Layer\n",
    "layer = datasource.CreateLayer('New_Point', geom_type=ogr.wkbPoint)\n",
    "   \n",
    "#(3) Define Fields\n",
    "fldDef = ogr.FieldDefn('ID', ogr.OFTInteger)\n",
    "fldDef.SetWidth(10)\n",
    "layer.CreateField(fldDef)\n",
    "fldDef.Destroy()\n",
    "\n",
    "fldDef = ogr.FieldDefn('NAME', ogr.OFTString)\n",
    "fldDef.SetWidth(100)\n",
    "layer.CreateField(fldDef)\n",
    "fldDef.Destroy()\n",
    "\n",
    "fldDef = ogr.FieldDefn('X', ogr.OFTReal)\n",
    "fldDef.SetWidth(13)\n",
    "fldDef.SetPrecision(3)\n",
    "layer.CreateField(fldDef)\n",
    "fldDef.Destroy()\n",
    "\n",
    "fldDef = ogr.FieldDefn('Y', ogr.OFTReal)\n",
    "fldDef.SetWidth(13)\n",
    "fldDef.SetPrecision(3)\n",
    "layer.CreateField(fldDef)\n",
    "fldDef.Destroy()\n",
    "\n",
    "#(4) Create Feature(Record)\n",
    "#Merkator@ตึกไทย\n",
    "X = 668334.249\n",
    "Y = 1517293.049\n",
    "feature = ogr.Feature(layer.GetLayerDefn())\n",
    "pt = ogr.Geometry(ogr.wkbPoint)\n",
    "pt.AddPoint(X, Y)\n",
    "feature.SetGeometry(pt)\n",
    "feature.SetField('ID', 1)\n",
    "feature.SetField('NAME', 'Merkator Co., Ltd.')\n",
    "feature.SetField('X', X)\n",
    "feature.SetField('Y', Y)\n",
    "layer.CreateFeature(feature)\n",
    "feature.Destroy()\n",
    "\n",
    "datasource.Destroy()\n",
    "print 'Create Shapefile Complete!'"
   ]
  },
  {
   "cell_type": "markdown",
   "metadata": {},
   "source": [
    "## Attribute Filtes"
   ]
  },
  {
   "cell_type": "code",
   "execution_count": null,
   "metadata": {
    "collapsed": true
   },
   "outputs": [],
   "source": [
    "print '[Original] No. of Features(Records): %d'%layer.GetFeatureCount()\n",
    "\n",
    "#sql = \"NAME2 = '\" + 'ห้วยขวาง'.decode('UTF8').encode('CP874') + \"'\"\n",
    "#sql = \"ADMIN_ID like '%103%'\"\n",
    "sql = \"ID > 100000\"\n",
    "layer.SetAttributeFilter(sql)\n",
    "print '[Atrribute Filters] No. of Features(Records): %d'%layer.GetFeatureCount()\n",
    "\n",
    "layer.SetAttributeFilter(None)\n",
    "print '[Reset to Original] No. of Features(Records): %d'%layer.GetFeatureCount()"
   ]
  },
  {
   "cell_type": "code",
   "execution_count": null,
   "metadata": {
    "collapsed": true
   },
   "outputs": [],
   "source": [
    "#-*-coding:UTF-8-*-\n",
    "\n",
    "import ogr\n",
    "\n",
    "driver = ogr.GetDriverByName('ESRI Shapefile')\n",
    "datasource = driver.Open('D:\\\\Conversion_Area\\\\Python_Training\\\\Data\\\\Admin_BKK.shp', 0)\n",
    "layer = datasource.GetLayer()\n",
    "\n",
    "#sql = \"NAME2 = '\" + 'บางรัก'.decode('UTF8').encode('CP874') + \"'\"\n",
    "#sql = \"NAME2 like '\" + 'บาง%'.decode('UTF8').encode('CP874') + \"'\"\n",
    "#sql = \"ADMIN_ID like '%103%'\"\n",
    "#sql = \"ID > 100000\"\n",
    "sql = \"ADMIN_ID like '1030%'\"\n",
    "layer.SetAttributeFilter(sql)\n",
    "print 'No. of Features (Records): %d'%layer.GetFeatureCount()\n",
    "\n",
    "recset = layer.GetNextFeature()\n",
    "while recset:\n",
    "    ID = recset.GetField('ID')\n",
    "    ADMIN_ID = recset.GetFieldAsString('ADMIN_ID')\n",
    "    NAME1 = recset.GetFieldAsString('NAME1').decode('CP874')\n",
    "    NAME2 = recset.GetFieldAsString('NAME2').decode('CP874')\n",
    "    NAME3 = recset.GetFieldAsString('NAME3').decode('CP874')\n",
    "    print ID, ADMIN_ID, NAME1, NAME2, NAME3\n",
    "    recset.Destroy()\n",
    "    recset = layer.GetNextFeature()\n",
    "\n",
    "datasource.Destroy()  "
   ]
  },
  {
   "cell_type": "markdown",
   "metadata": {},
   "source": [
    "## Create Attribute Index"
   ]
  },
  {
   "cell_type": "code",
   "execution_count": null,
   "metadata": {
    "collapsed": true
   },
   "outputs": [],
   "source": [
    "#-*-coding:UTF-8-*-\n",
    "\n",
    "import ogr\n",
    "import time\n",
    "\n",
    "StartTime = time.time()\n",
    "\n",
    "driver = ogr.GetDriverByName('ESRI Shapefile')\n",
    "datasource = driver.Open('D:\\\\Conversion_Area\\\\Garmin_2019_30\\\\L_trans_GBKK.shp', 0)\n",
    "\n",
    "#Create Attribute Index\n",
    "datasource.ExecuteSQL(\"CREATE INDEX ON L_trans_GBKK USING ROUTEID\")\n",
    "StopTime = time.time()\n",
    "print 'Build Index Time Complete: %4.2f Seconds'%(StopTime-StartTime)\n",
    "\n",
    "layer = datasource.GetLayer()\n",
    "print '[All] No. of Features (Records): %d'%layer.GetFeatureCount()\n",
    "\n",
    "sql = \"ROUTEID = 3200003177044.0\"\n",
    "layer.SetAttributeFilter(sql)\n",
    "print '[Selection] No. of Features (Records): %d'%layer.GetFeatureCount()\n",
    "\n",
    "datasource.Destroy()  \n",
    "\n",
    "StopTime = time.time()\n",
    "print 'Time Complete: %4.2f Seconds'%(StopTime-StartTime)\n",
    "\n",
    "#Benchmark\n",
    "#No Index File: 6.65 Seconds (1/451860)\n",
    "#Build Index: 13.65 Seconds\n",
    "#Has Index File: 0.04 Seconds (1/451860)"
   ]
  },
  {
   "cell_type": "markdown",
   "metadata": {},
   "source": [
    "## Read/Write Excel File"
   ]
  },
  {
   "cell_type": "code",
   "execution_count": null,
   "metadata": {
    "collapsed": true
   },
   "outputs": [],
   "source": [
    "import gdal, ogr\n",
    "import os\n",
    "\n",
    "#Create Excel Report\n",
    "ds, LYR = Create_XLS_Report_Table()\n",
    "    \n",
    "driver = ogr.GetDriverByName('XLSX')\n",
    "datasource = driver.Open('D:\\\\Conversion_Area\\\\Python_Training\\\\Data\\\\Waypoint.xlsx', 0)\n",
    "gdal.SetConfigOption('OGR_XLSX_HEADERS','FORCE')\n",
    "SourceLayer = datasource.GetLayer('Waypoint')\n",
    "recset = SourceLayer.GetNextFeature()\n",
    "while recset:\n",
    "    RouteName = recset.GetFieldAsString('NAME')\n",
    "    Origin = recset.GetFieldAsString('ORIGIN')\n",
    "    Destination = recset.GetFieldAsString('DESTINATION')\n",
    "    Origin_pt = recset.GetFieldAsString('ORIGIN_PT')\n",
    "    Destination_pt = recset.GetFieldAsString('DESTINATION_PT')\n",
    "    Start_Time = recset.GetFieldAsString('START_TIME')\n",
    "    print 'Route Name: %s Start:%s, End:%s'%(RouteName, Origin, Destination)\n",
    "    print 'Start X,Y (%f,%f)'%(float(Origin_pt.split(' ')[0]), float(Origin_pt.split(' ')[1]))\n",
    "    print 'End X,Y (%f,%f)'%(float(Destination_pt.split(' ')[0]), float(Destination_pt.split(' ')[1]))\n",
    "    \n",
    "   \n",
    "    #Write Data to Excel\n",
    "    Rec = ogr.Feature(LYR.GetLayerDefn())\n",
    "    Rec.SetField('ORIGIN', Origin)\n",
    "    Rec.SetField('ORIGIN_X', float(Origin_pt.split(' ')[0]))\n",
    "    Rec.SetField('ORIGIN_Y', float(Origin_pt.split(' ')[1]))\n",
    "    Rec.SetField('DESTINATION', Destination)\n",
    "    Rec.SetField('DESTINATION_X', float(Destination_pt.split(' ')[0]))\n",
    "    Rec.SetField('DESTINATION_Y', float(Destination_pt.split(' ')[1]))\n",
    "    LYR.CreateFeature(Rec)\n",
    "    Rec.Destroy()\n",
    "    \n",
    "    recset.Destroy()\n",
    "    recset = SourceLayer.GetNextFeature()\n",
    "    \n",
    "datasource.Destroy()\n",
    "ds.Destroy()"
   ]
  },
  {
   "cell_type": "code",
   "execution_count": null,
   "metadata": {
    "collapsed": true
   },
   "outputs": [],
   "source": [
    "def Create_XLS_Report_Table():\n",
    "    #(1) Define Datasource\n",
    "    driver = ogr.GetDriverByName('XLSX')\n",
    "    gdal.SetConfigOption('OGR_XLSX_FIELD_TYPES','AUTO')\n",
    "    xlsxFilename = 'D:\\\\Conversion_Area\\\\Python_Training\\\\Data\\\\Report.xlsx'\n",
    "    if os.path.exists(xlsxFilename):\n",
    "        driver.DeleteDataSource(xlsxFilename)\n",
    "    ds = driver.CreateDataSource(xlsxFilename)\n",
    "\n",
    "    #(2) Create Layer\n",
    "    LYR = ds.CreateLayer('Waypoint', None, geom_type=ogr.wkbNone)\n",
    "\n",
    "    #(3) Define Fields\n",
    "    fldDef = ogr.FieldDefn('Origin', ogr.OFTString)\n",
    "    fldDef.SetWidth(50)\n",
    "    LYR.CreateField(fldDef)\n",
    "    fldDef.Destroy()\n",
    "\n",
    "    fldDef = ogr.FieldDefn('Origin_X', ogr.OFTReal)\n",
    "    fldDef.SetWidth(10)\n",
    "    fldDef.SetPrecision(3)\n",
    "    LYR.CreateField(fldDef)\n",
    "    fldDef.Destroy()\n",
    "\n",
    "    fldDef = ogr.FieldDefn('Origin_Y', ogr.OFTReal)\n",
    "    fldDef.SetWidth(10)\n",
    "    fldDef.SetPrecision(3)\n",
    "    LYR.CreateField(fldDef)\n",
    "    fldDef.Destroy()\n",
    "\n",
    "    fldDef = ogr.FieldDefn('Destination', ogr.OFTString)\n",
    "    fldDef.SetWidth(50)\n",
    "    LYR.CreateField(fldDef)\n",
    "    fldDef.Destroy()\n",
    "\n",
    "    fldDef = ogr.FieldDefn('Destination_X', ogr.OFTReal)\n",
    "    fldDef.SetWidth(10)\n",
    "    fldDef.SetPrecision(3)\n",
    "    LYR.CreateField(fldDef)\n",
    "    fldDef.Destroy()\n",
    "\n",
    "    fldDef = ogr.FieldDefn('Destination_Y', ogr.OFTReal)\n",
    "    fldDef.SetWidth(10)\n",
    "    fldDef.SetPrecision(3)\n",
    "    LYR.CreateField(fldDef)\n",
    "    fldDef.Destroy()\n",
    "\n",
    "    return ds, LYR"
   ]
  },
  {
   "cell_type": "markdown",
   "metadata": {},
   "source": [
    "## Fields (Feature Definition)"
   ]
  },
  {
   "cell_type": "code",
   "execution_count": null,
   "metadata": {
    "collapsed": true
   },
   "outputs": [],
   "source": [
    "layerDefn = layer.GetLayerDefn()"
   ]
  },
  {
   "cell_type": "code",
   "execution_count": null,
   "metadata": {
    "collapsed": true
   },
   "outputs": [],
   "source": [
    "print 'No. of Fields: %d'%layerDefn.GetFieldCount()"
   ]
  },
  {
   "cell_type": "code",
   "execution_count": null,
   "metadata": {
    "collapsed": true
   },
   "outputs": [],
   "source": [
    "print 'Geometry Type: %d'%layerDefn.GetGeomType()"
   ]
  },
  {
   "cell_type": "code",
   "execution_count": null,
   "metadata": {
    "collapsed": true
   },
   "outputs": [],
   "source": [
    "for n in range(0, layerDefn.GetFieldCount()):\n",
    "    fld = layerDefn.GetFieldDefn(n)\n",
    "    print 'Field Name: %s [%s, Width=%d, Precision=%d]'%(fld.GetName(), fld.GetTypeName(), fld.GetWidth(), fld.GetPrecision())"
   ]
  },
  {
   "cell_type": "markdown",
   "metadata": {},
   "source": [
    "# Reference\n",
    "## GDAL Geometry Class\n",
    "\n",
    "https://gdal.org/python/osgeo.ogr.Geometry-class.html\n",
    "\n",
    "## Geometry Cookbook\n",
    "https://pcjericks.github.io/py-gdalogr-cookbook/geometry.html"
   ]
  },
  {
   "cell_type": "markdown",
   "metadata": {},
   "source": [
    "## Geometry Information"
   ]
  },
  {
   "cell_type": "code",
   "execution_count": null,
   "metadata": {
    "collapsed": true
   },
   "outputs": [],
   "source": [
    "import ogr\n",
    "driver = ogr.GetDriverByName('ESRI Shapefile')\n",
    "datasource = driver.Open('D:\\\\Conversion_Area\\\\Python_Training\\\\Data\\\\Admin_BKK.shp', 0)\n",
    "layer = datasource.GetLayer()\n",
    "feature = layer.GetFeature(0)\n",
    "\n",
    "geometry = feature.GetGeometryRef()\n",
    "print 'Geometry Name: %s'%geometry.GetGeometryName()\n",
    "print 'Is Valid: %s'%geometry.IsValid()\n",
    "print 'Dimension: %d'%geometry.GetDimension()\n",
    "print 'Area: %f'%geometry.GetArea()\n",
    "print 'Length/Perimeter: %f'%geometry.Boundary().Length()"
   ]
  },
  {
   "cell_type": "markdown",
   "metadata": {},
   "source": [
    "## Geometry Extent"
   ]
  },
  {
   "cell_type": "code",
   "execution_count": null,
   "metadata": {
    "collapsed": true
   },
   "outputs": [],
   "source": [
    "print 'Geometry Extent:'\n",
    "geom_ext = geometry.GetEnvelope()\n",
    "print geom_ext"
   ]
  },
  {
   "cell_type": "code",
   "execution_count": null,
   "metadata": {
    "collapsed": true
   },
   "outputs": [],
   "source": [
    "print 'X-Min: %f'%geom_ext[0]\n",
    "print 'X-Max: %f'%geom_ext[1]\n",
    "print 'Y-Min: %f'%geom_ext[2]\n",
    "print 'Y-Max: %f'%geom_ext[3]"
   ]
  },
  {
   "cell_type": "markdown",
   "metadata": {},
   "source": [
    "## Geometry WKT"
   ]
  },
  {
   "cell_type": "code",
   "execution_count": null,
   "metadata": {
    "collapsed": true
   },
   "outputs": [],
   "source": [
    "print geometry.ExportToWkt()"
   ]
  },
  {
   "cell_type": "code",
   "execution_count": null,
   "metadata": {
    "collapsed": true
   },
   "outputs": [],
   "source": [
    "poly = geometry.GetGeometryRef(0)\n",
    "for n in range(0, poly.GetPointCount()):\n",
    "    # GetPoint returns a tuple not a Geometry\n",
    "    pt = poly.GetPoint(n)\n",
    "    print '[%i] POINT (%f %f)'%(n, pt[0], pt[1])"
   ]
  },
  {
   "cell_type": "markdown",
   "metadata": {},
   "source": [
    "## Spatial Reference"
   ]
  },
  {
   "cell_type": "code",
   "execution_count": null,
   "metadata": {
    "collapsed": true
   },
   "outputs": [],
   "source": [
    "import ogr\n",
    "driver = ogr.GetDriverByName('ESRI Shapefile')\n",
    "datasource = driver.Open('D:\\\\Conversion_Area\\\\Python_Training\\\\Data\\\\Admin_BKK.shp', 0)\n",
    "layer = datasource.GetLayer()\n",
    "\n",
    "srs = layer.GetSpatialRef()\n",
    "print srs"
   ]
  },
  {
   "cell_type": "code",
   "execution_count": null,
   "metadata": {
    "collapsed": true
   },
   "outputs": [],
   "source": [
    "import osr\n",
    "Prj = osr.SpatialReference()\n",
    "\n",
    "Prj.ImportFromEPSG(32647)         #UTM WGS84 Zone 47\n",
    "#Prj.ImportFromEPSG(32648)         #UTM WGS84 Zone 48\n",
    "#Prj.ImportFromEPSG(4326)          #Lat/Long WGS84\n",
    "#Prj.ImportFromEPSG(102113)        #WGS_1984_Web_Mercator\n",
    "\n",
    "if Prj.IsProjected():\n",
    "    print '[PROJCS] %s'%Prj.GetAttrValue('PROJCS')\n",
    "elif Prj.IsGeographic():\n",
    "    print '[GEOGCS] %s'%Prj.GetAttrValue('GEOGCS')"
   ]
  },
  {
   "cell_type": "markdown",
   "metadata": {},
   "source": [
    "## List of Shapefile Projection"
   ]
  },
  {
   "cell_type": "code",
   "execution_count": null,
   "metadata": {
    "collapsed": true
   },
   "outputs": [],
   "source": [
    "import ogr\n",
    "import glob\n",
    "\n",
    "driver = ogr.GetDriverByName('ESRI Shapefile')\n",
    "for fn in glob.glob('D:\\\\Temp\\\\*.shp'):\n",
    "    datasource =  driver.Open(fn, 0)\n",
    "    layer = datasource.GetLayer()\n",
    "        \n",
    "    srs = layer.GetSpatialRef()\n",
    "    if srs == None:\n",
    "        print layer.GetName(), 'None'\n",
    "    else:\n",
    "        if srs.IsProjected():\n",
    "            print layer.GetName(), '[PROJCS] %s'%srs.GetAttrValue('PROJCS')\n",
    "        elif srs.IsGeographic():\n",
    "            print layer.GetName(), '[GEOGCS] %s'%srs.GetAttrValue('GEOGCS')\n",
    "     \n",
    "    datasource.Destroy() "
   ]
  },
  {
   "cell_type": "markdown",
   "metadata": {},
   "source": [
    "## Projection"
   ]
  },
  {
   "cell_type": "code",
   "execution_count": null,
   "metadata": {
    "collapsed": true
   },
   "outputs": [],
   "source": [
    "import ogr, osr\n",
    "\n",
    "#Merkator@ตึกไทย\n",
    "X = 668334.249\n",
    "Y = 1517293.049\n",
    "pt = ogr.Geometry(ogr.wkbPoint)\n",
    "pt.AddPoint(X, Y)\n",
    "\n",
    "print '[UTM Zone 47] %f, %f'%(pt.GetX(), pt.GetY())\n",
    "\n",
    "srcSR = osr.SpatialReference()\n",
    "srcSR.ImportFromEPSG(32647)  #UTM WGS84 Zone47\n",
    "\n",
    "destSR = osr.SpatialReference()\n",
    "destSR.ImportFromEPSG(4326)  #Lat/Long WGS84\n",
    "\n",
    "coorTrans = osr.CoordinateTransformation(srcSR, destSR)\n",
    "pt.Transform(coorTrans)\n",
    "\n",
    "print '[Lat/Long] %f, %f'%(pt.GetX(), pt.GetY())"
   ]
  },
  {
   "cell_type": "markdown",
   "metadata": {},
   "source": [
    "## Spatial Filter\n",
    "## Public Area vs. Landmark"
   ]
  },
  {
   "cell_type": "code",
   "execution_count": null,
   "metadata": {},
   "outputs": [],
   "source": [
    "import ogr\n",
    "import time\n",
    "\n",
    "StartTime = time.time()\n",
    "\n",
    "driver = ogr.GetDriverByName('ESRI Shapefile')\n",
    "datasource1 = driver.Open('D:\\\\Conversion_Area\\\\Python_Training\\\\Data\\\\Public_Area_Sample.shp', 0)\n",
    "layer1 = datasource1.GetLayer()\n",
    "\n",
    "datasource2 = driver.Open('D:\\\\Conversion_Area\\\\Python_Training\\\\Data\\\\Landmark_Sample.shp', 0)\n",
    "datasource2.ExecuteSQL(\"CREATE SPATIAL INDEX ON Landmark_Sample\")\n",
    "StopTime = time.time()\n",
    "print 'Build Index Time Complete: %4.2f Seconds'%(StopTime-StartTime)\n",
    "#Don't forget Create Spatial Index\n",
    "layer2 = datasource2.GetLayer()\n",
    "\n",
    "recset = layer1.GetNextFeature()\n",
    "while recset:\n",
    "    poly = recset.GetGeometryRef()\n",
    "    LDM_ID = recset.GetField('LDM_ID')\n",
    "    Name = recset.GetFieldAsString('NAME').decode('CP874')\n",
    "    layer2.SetSpatialFilter(None)\n",
    "    layer2.SetSpatialFilter(poly)\n",
    "    feat = layer2.GetNextFeature()\n",
    "    Found_POI = False\n",
    "    while feat:\n",
    "        pt = feat.GetGeometryRef()\n",
    "        if pt.Within(poly):\n",
    "            ID = feat.GetField('ID')\n",
    "            if ID == LDM_ID:\n",
    "                Found_POI = True\n",
    "        feat.Destroy()\n",
    "        feat = layer2.GetNextFeature()\n",
    "    \n",
    "    if Found_POI == False:\n",
    "        print \"[LDM_ID=%d] Public_Area no Landmark (%s)\"%(LDM_ID,Name)\n",
    "\n",
    "    recset.Destroy()\n",
    "    recset = layer1.GetNextFeature()\n",
    "\n",
    "datasource1.Destroy()\n",
    "datasource2.Destroy()\n",
    "\n",
    "StopTime = time.time()\n",
    "print 'Time Complete: %4.2f Seconds'%(StopTime-StartTime)\n",
    "\n",
    "#Benchmark\n",
    "#No Index File: 151.33 Seconds (673 Records)\n",
    "#Build Index: 0.24 Seconds\n",
    "#Has Index File: 2.64 Seconds"
   ]
  },
  {
   "cell_type": "markdown",
   "metadata": {},
   "source": [
    "## L_trans vs. Building"
   ]
  },
  {
   "cell_type": "code",
   "execution_count": null,
   "metadata": {},
   "outputs": [],
   "source": [
    "import ogr\n",
    "import time\n",
    "\n",
    "StartTime = time.time()\n",
    "\n",
    "driver = ogr.GetDriverByName('ESRI Shapefile')\n",
    "datasource1 = driver.Open('D:\\\\Conversion_Area\\\\Python_Training\\\\Data\\\\L_trans_Sample.shp', 0)\n",
    "layer1 = datasource1.GetLayer()\n",
    "print layer1.GetFeatureCount()\n",
    "\n",
    "datasource2 = driver.Open('D:\\\\Conversion_Area\\\\Python_Training\\\\Data\\\\Building_Sample.shp', 0)\n",
    "#datasource2.ExecuteSQL(\"CREATE SPATIAL INDEX ON Building_Sample\")\n",
    "#StopTime = time.time()\n",
    "#print 'Build Index Time Complete: %4.2f Seconds'%(StopTime-StartTime)\n",
    "#Don't forget Create Spatial Index\n",
    "layer2 = datasource2.GetLayer()\n",
    "\n",
    "recset = layer1.GetNextFeature()\n",
    "while recset:\n",
    "    ln = recset.GetGeometryRef()\n",
    "    ID = recset.GetField('ID')\n",
    "    RC =  recset.GetField('RC')\n",
    "    layer2.SetSpatialFilter(None)\n",
    "    layer2.SetSpatialFilter(ln)\n",
    "    feat = layer2.GetNextFeature()\n",
    "    while feat:\n",
    "        poly = feat.GetGeometryRef()\n",
    "        if ln.Intersect(poly) and RC == 0:\n",
    "            int_ln = ln.Intersection(poly)\n",
    "            if int_ln.Length() >= (ln.Length() / 2.0):\n",
    "                print \"[ID=%d] L_trans intersect Building \"%ID\n",
    "                break\n",
    "        feat.Destroy()\n",
    "        feat = layer2.GetNextFeature()\n",
    "\n",
    "    recset.Destroy()\n",
    "    recset = layer1.GetNextFeature()\n",
    "\n",
    "datasource1.Destroy()\n",
    "datasource2.Destroy()\n",
    "\n",
    "StopTime = time.time()\n",
    "print 'Time Complete: %4.2f Seconds'%(StopTime-StartTime)\n",
    "\n",
    "#Benchmark\n",
    "#No Index File: 151.33 Seconds (673 Records)\n",
    "#Build Index: 0.24 Seconds\n",
    "#Has Index File: 2.64 Seconds"
   ]
  },
  {
   "cell_type": "markdown",
   "metadata": {},
   "source": [
    "## Landmak vs. Navigation_Point\n",
    "## Attribute Filter"
   ]
  },
  {
   "cell_type": "code",
   "execution_count": null,
   "metadata": {
    "collapsed": true
   },
   "outputs": [],
   "source": [
    "import ogr\n",
    "import time\n",
    "\n",
    "StartTime = time.time()\n",
    "\n",
    "driver = ogr.GetDriverByName('ESRI Shapefile')\n",
    "datasource1 = driver.Open('D:\\\\Conversion_Area\\\\Python_Training\\\\Data\\\\Landmark_Sample.shp', 0)\n",
    "layer1 = datasource1.GetLayer()\n",
    "\n",
    "datasource2 = driver.Open('D:\\\\Conversion_Area\\\\Python_Training\\\\Data\\\\Navigation_Point_Sample.shp', 0)\n",
    "datasource2.ExecuteSQL(\"CREATE INDEX ON Navigation_Point_Sample USING LDM_ID\")\n",
    "StopTime = time.time()\n",
    "print 'Build Index Time Complete: %4.2f Seconds'%(StopTime-StartTime)\n",
    "#Don't forget Create Index\n",
    "layer2 = datasource2.GetLayer()\n",
    "\n",
    "recset = layer1.GetNextFeature()\n",
    "while recset:\n",
    "    pt = recset.GetGeometryRef()\n",
    "    ID = recset.GetField('ID')\n",
    "    Name = recset.GetFieldAsString('NAME').decode('CP874')\n",
    "    #Attribute Filter\n",
    "    layer2.SetAttributeFilter(None)    \n",
    "    layer2.SetAttributeFilter(\"LDM_ID = %d\"%ID)\n",
    "    feat = layer2.GetNextFeature()\n",
    "    while feat:\n",
    "        navi_pt = feat.GetGeometryRef()\n",
    "        navi_type = feat.GetField('TYPE')\n",
    "        dist = pt.Distance(navi_pt)\n",
    "        if dist >= 250:\n",
    "            print '[ID=%d] [%s] [Type=%d] Navigation Distance > 250 m. (%f)'%(ID, Name, navi_type, dist)\n",
    "        feat.Destroy()\n",
    "        feat = layer2.GetNextFeature()\n",
    "\n",
    "    recset.Destroy()\n",
    "    recset = layer1.GetNextFeature()\n",
    "\n",
    "datasource1.Destroy()\n",
    "datasource2.Destroy()\n",
    "\n",
    "StopTime = time.time()\n",
    "print 'Time Complete: %4.2f Seconds'%(StopTime-StartTime)\n",
    "\n",
    "#Benchmark\n",
    "#No Index File: N/A Seconds (22695 Records)\n",
    "#Build Index: 0.24 Seconds\n",
    "#Has Index File: 1.65 Seconds"
   ]
  },
  {
   "cell_type": "markdown",
   "metadata": {
    "collapsed": true
   },
   "source": [
    "# Ex.1: Create New Shapefile\n",
    "## Warning Case : Thai Language Codepage"
   ]
  },
  {
   "cell_type": "code",
   "execution_count": null,
   "metadata": {
    "collapsed": true
   },
   "outputs": [],
   "source": [
    "#-*-coding:UTF-8-*-\n",
    "\n",
    "import gdal, ogr, osr\n",
    "import os\n",
    "\n",
    "#(1) Define Datasource (Shapefile filename)\n",
    "gdal.SetConfigOption('SHAPE_ENCODING', '') #Always Use\n",
    "driver = ogr.GetDriverByName('ESRI Shapefile')\n",
    "layername = 'New_Point'\n",
    "output_path = 'D:\\\\Conversion_Area\\\\Python_Training\\\\Data\\\\'\n",
    "output_fn = output_path + layername + '.shp'\n",
    "#Check Existing Shapefile \n",
    "if os.path.exists(output_fn):\n",
    "    driver.DeleteDataSource(output_fn)\n",
    "datasource = driver.CreateDataSource(output_fn)\n",
    "    \n",
    "#(2) Define Projection\n",
    "Prj = osr.SpatialReference()\n",
    "Prj.ImportFromEPSG(32647)         #UTM WGS84 Zone 47\n",
    "#Prj.ImportFromEPSG(4326)         #Lat/Long WGS84\n",
    "\n",
    "#(3) Create Layer\n",
    "layer = datasource.CreateLayer(layername, srs=Prj, geom_type=ogr.wkbPoint, options=['ENCODING=LDID/0'])\n",
    "#layer = datasource.CreateLayer(layername, srs=Prj, geom_type=ogr.wkbPoint) #Not Use\n",
    "\n",
    "#(4) Define Encoding & Create CPG file\n",
    "outcpgfile = output_fn.replace('.shp','.cpg')\n",
    "cpgfile = open(outcpgfile,'w')\n",
    "#cpgfile.write('UTF-8')\n",
    "cpgfile.write('OEM 874')\n",
    "cpgfile.close()\n",
    "    \n",
    "#(5) Define Fields\n",
    "fldDef = ogr.FieldDefn('ID', ogr.OFTInteger)\n",
    "fldDef.SetWidth(10)\n",
    "layer.CreateField(fldDef)\n",
    "fldDef.Destroy()\n",
    "\n",
    "fldDef = ogr.FieldDefn('NAME', ogr.OFTString)\n",
    "fldDef.SetWidth(100)\n",
    "layer.CreateField(fldDef)\n",
    "fldDef.Destroy()\n",
    "\n",
    "fldDef = ogr.FieldDefn('NAME_ENG', ogr.OFTString)\n",
    "fldDef.SetWidth(100)\n",
    "layer.CreateField(fldDef)\n",
    "fldDef.Destroy()\n",
    "\n",
    "fldDef = ogr.FieldDefn('X', ogr.OFTReal)\n",
    "fldDef.SetWidth(13)\n",
    "fldDef.SetPrecision(3)\n",
    "layer.CreateField(fldDef)\n",
    "fldDef.Destroy()\n",
    "\n",
    "fldDef = ogr.FieldDefn('Y', ogr.OFTReal)\n",
    "fldDef.SetWidth(13)\n",
    "fldDef.SetPrecision(3)\n",
    "layer.CreateField(fldDef)\n",
    "fldDef.Destroy()\n",
    "\n",
    "#(6) Create Feature(Record)\n",
    "#Merkator@ตึกไทย\n",
    "X = 668334.249\n",
    "Y = 1517293.049\n",
    "feature = ogr.Feature(layer.GetLayerDefn())\n",
    "pt = ogr.Geometry(ogr.wkbPoint)\n",
    "pt.AddPoint(X, Y)\n",
    "feature.SetGeometry(pt)\n",
    "feature.SetField('ID', 1)\n",
    "#feature.SetField('NAME', 'บริษัทเมอร์เคเทอร์ จำกัด'.decode('UTF8').encode('CP874'))\n",
    "feature.SetField('NAME', u'บริษัทเมอร์เคเทอร์ จำกัด'.encode('CP874'))\n",
    "#feature.SetField('NAME', 'บริษัทเมอร์เคเทอร์ จำกัด')\n",
    "feature.SetField('NAME_ENG', 'Merkator Co., Ltd.')\n",
    "feature.SetField('X', X)\n",
    "feature.SetField('Y', Y)\n",
    "layer.CreateFeature(feature)\n",
    "pt.Destroy()\n",
    "feature.Destroy()\n",
    "\n",
    "datasource.Destroy()\n",
    "print 'Create Shapefile Complete!'"
   ]
  },
  {
   "cell_type": "markdown",
   "metadata": {},
   "source": [
    "# Ex.2: Create Centroid from Polygon Layer"
   ]
  },
  {
   "cell_type": "code",
   "execution_count": null,
   "metadata": {
    "collapsed": true
   },
   "outputs": [],
   "source": [
    "#-*-coding:UTF-8-*-\n",
    "\n",
    "import gdal, ogr, osr\n",
    "import os"
   ]
  },
  {
   "cell_type": "markdown",
   "metadata": {},
   "source": [
    "## Create Shapefile Module"
   ]
  },
  {
   "cell_type": "code",
   "execution_count": null,
   "metadata": {
    "collapsed": true
   },
   "outputs": [],
   "source": [
    "def CreateShapefile(output_path, layername, Prj, ShapeType):\n",
    "    #(1) Define Datasource (Shapefile filename)\n",
    "    gdal.SetConfigOption('SHAPE_ENCODING', '')\n",
    "    driver = ogr.GetDriverByName('ESRI Shapefile')\n",
    "    output_fn = output_path + layername + '.shp'\n",
    "    #Check Existing Shapefile \n",
    "    if os.path.exists(output_fn):\n",
    "        driver.DeleteDataSource(output_fn)\n",
    "    datasource = driver.CreateDataSource(output_fn)\n",
    "\n",
    "    #(2) Create Layer\n",
    "    layer = datasource.CreateLayer(layername, srs=Prj, geom_type=ShapeType, options=['ENCODING=LDID/0'])\n",
    "\n",
    "    #(3) Define Encoding & Create CPG file\n",
    "    outcpgfile = output_fn.replace('.shp','.cpg')\n",
    "    cpgfile = open(outcpgfile,'w')\n",
    "    cpgfile.write('OEM 874')\n",
    "    cpgfile.close()\n",
    "    \n",
    "    #(4) Define Fields\n",
    "    fldDef = ogr.FieldDefn('ID', ogr.OFTInteger)\n",
    "    fldDef.SetWidth(10)\n",
    "    layer.CreateField(fldDef)\n",
    "    fldDef.Destroy()\n",
    "\n",
    "    fldDef = ogr.FieldDefn('NAME1', ogr.OFTString)\n",
    "    fldDef.SetWidth(100)\n",
    "    layer.CreateField(fldDef)\n",
    "    fldDef.Destroy()\n",
    "    \n",
    "    fldDef = ogr.FieldDefn('NAME2', ogr.OFTString)\n",
    "    fldDef.SetWidth(100)\n",
    "    layer.CreateField(fldDef)\n",
    "    fldDef.Destroy()\n",
    "    \n",
    "    fldDef = ogr.FieldDefn('NAME3', ogr.OFTString)\n",
    "    fldDef.SetWidth(100)\n",
    "    layer.CreateField(fldDef)\n",
    "    fldDef.Destroy()\n",
    "        \n",
    "    return datasource, layer"
   ]
  },
  {
   "cell_type": "markdown",
   "metadata": {},
   "source": [
    "## Main Module"
   ]
  },
  {
   "cell_type": "code",
   "execution_count": null,
   "metadata": {
    "collapsed": true
   },
   "outputs": [],
   "source": [
    "#(1) Assign Admin_Poly Layer (Polygon Feature) <Input Layer>\n",
    "driver = ogr.GetDriverByName('ESRI Shapefile')\n",
    "working_path = 'D:\\\\Conversion_Area\\\\Python_Training\\\\Data\\\\'\n",
    "datasource = driver.Open(working_path + 'Admin_BKK.shp', 0)\n",
    "layer = datasource.GetLayer()\n",
    "Source_SRF =  layer.GetSpatialRef()\n",
    "\n",
    "#(2) Assign Centroid Shapefile (Point Feature) <Output Layer>\n",
    "layername = 'Admin_Centroid'\n",
    "ds, OutputLYR = CreateShapefile(working_path, layername, Source_SRF, ogr.wkbPoint)\n",
    "    \n",
    "#(3) Loop Input Layer\n",
    "record = 0\n",
    "recset = layer.GetNextFeature()\n",
    "while recset:\n",
    "    record += 1\n",
    "    geom = recset.GetGeometryRef()\n",
    "        \n",
    "    #(4) Create Feature(Record)\n",
    "    feature = ogr.Feature(OutputLYR.GetLayerDefn())\n",
    "    Centroid = geom.Centroid()\n",
    "    feature.SetGeometry(Centroid)\n",
    "    feature.SetField('ID', recset.GetField('ID'))\n",
    "    feature.SetField('NAME1', recset.GetFieldAsString('NAME1').decode('CP874').encode('CP874'))\n",
    "    feature.SetField('NAME2', recset.GetFieldAsString('NAME2').decode('CP874').encode('CP874'))\n",
    "    feature.SetField('NAME3', recset.GetFieldAsString('NAME3').decode('CP874').encode('CP874'))\n",
    "    OutputLYR.CreateFeature(feature)\n",
    "    feature.Destroy()\n",
    "\n",
    "    recset.Destroy()\n",
    "    recset = layer.GetNextFeature()\n",
    "\n",
    "datasource.Destroy()\n",
    "ds.Destroy()\n",
    "print 'Generate Centroid Complete!'"
   ]
  },
  {
   "cell_type": "markdown",
   "metadata": {
    "collapsed": true
   },
   "source": [
    "# Ex.3: Add Fields & Update Attribute in Existing Shapefile"
   ]
  },
  {
   "cell_type": "code",
   "execution_count": null,
   "metadata": {
    "collapsed": true
   },
   "outputs": [],
   "source": [
    "#-*-coding:UTF-8-*-\n",
    "\n",
    "import gdal, ogr, osr\n",
    "import os\n",
    "\n",
    "#(1) Assign Existing Layer\n",
    "driver = ogr.GetDriverByName('ESRI Shapefile')\n",
    "working_path = 'D:\\\\Conversion_Area\\\\Python_Training\\\\Data\\\\'\n",
    "datasource = driver.Open(working_path + 'L_trans_sample.shp', 1)\n",
    "layer = datasource.GetLayer()\n",
    "    \n",
    "#(2) Add New Fields\n",
    "fldDef = ogr.FieldDefn('MINUTES', ogr.OFTReal)\n",
    "fldDef.SetWidth(9)\n",
    "fldDef.SetPrecision(3)\n",
    "layer.CreateField(fldDef)\n",
    "fldDef.Destroy()\n",
    "\n",
    "#(3) Loop on Exiting Shapefile\n",
    "record = 0\n",
    "recset = layer.GetNextFeature()\n",
    "while recset:\n",
    "    record += 1\n",
    "    geom = recset.GetGeometryRef()\n",
    "    AVG_Speed = recset.GetField('AVG_SPEED')\n",
    "    Meters = recset.GetField('LENGTH')\n",
    "    Minutes = (Meters * 60) / (AVG_Speed * 1000.0)\n",
    "    \n",
    "    #(4) Update Fields    \n",
    "    recset.SetField('MINUTES', Minutes)\n",
    "    layer.SetFeature(recset)\n",
    "\n",
    "    recset.Destroy()\n",
    "    recset = layer.GetNextFeature()\n",
    "\n",
    "datasource.Destroy()\n",
    "\n",
    "print 'Update Field Complete!'"
   ]
  },
  {
   "cell_type": "markdown",
   "metadata": {},
   "source": [
    "# Ex.4: Change Fields Name/ Delete Fields in Existing Shapefile"
   ]
  },
  {
   "cell_type": "code",
   "execution_count": 1,
   "metadata": {},
   "outputs": [
    {
     "name": "stdout",
     "output_type": "stream",
     "text": [
      "Change Field Complete!\n"
     ]
    }
   ],
   "source": [
    "#-*-coding:UTF-8-*-\n",
    "\n",
    "import gdal, ogr, osr\n",
    "import os\n",
    "\n",
    "#(1) Assign Existing Layer\n",
    "driver = ogr.GetDriverByName('ESRI Shapefile')\n",
    "working_path = 'D:\\\\Conversion_Area\\\\Python_Training\\\\Data\\\\'\n",
    "datasource = driver.Open(working_path + 'Landmark_sample_bak.shp', 1)\n",
    "layer = datasource.GetLayer()\n",
    "\n",
    "#(2) Change Fields Name (Mu --> Village_No)\n",
    "n = layer.GetLayerDefn().GetFieldIndex('MU')\n",
    "fldDef = ogr.FieldDefn('VILLAGE_NO', ogr.OFTString)\n",
    "layer.AlterFieldDefn(n, fldDef, ogr.ALTER_NAME_FLAG)\n",
    "\n",
    "#(3) Change Fields Width/Precision (Region[String20] --> Region[String50])\n",
    "n = layer.GetLayerDefn().GetFieldIndex('REGION')\n",
    "fldDef.SetWidth(50)\n",
    "layer.AlterFieldDefn(n, fldDef, ogr.ALTER_WIDTH_PRECISION_FLAG)\n",
    "\n",
    "#(4) Change Fields Type\n",
    "n = layer.GetLayerDefn().GetFieldIndex('CITY_CODE')\n",
    "fldDef = ogr.FieldDefn('CITY_CODE', ogr.OFTString)\n",
    "layer.AlterFieldDefn(n, fldDef, ogr.ALTER_TYPE_FLAG)\n",
    "\n",
    "#(5) Delete Fields\n",
    "layer.DeleteField(layer.GetLayerDefn().GetFieldIndex('LO_CODE_2'))\n",
    "layer.DeleteField(layer.GetLayerDefn().GetFieldIndex('LO_CODE_3'))\n",
    "layer.DeleteField(layer.GetLayerDefn().GetFieldIndex('LO_CODE_4'))\n",
    "layer.DeleteField(layer.GetLayerDefn().GetFieldIndex('LO_CODE_5'))\n",
    "    \n",
    "datasource.Destroy()\n",
    "\n",
    "print 'Change Field Complete!'"
   ]
  },
  {
   "cell_type": "markdown",
   "metadata": {},
   "source": [
    "# Ex.5: Export to New Shapefile Base on Attribute"
   ]
  },
  {
   "cell_type": "code",
   "execution_count": null,
   "metadata": {
    "collapsed": true
   },
   "outputs": [],
   "source": [
    "#-*-coding:UTF-8-*-\n",
    "\n",
    "import gdal, ogr, osr\n",
    "import os\n",
    "\n",
    "#(1) Assign Existing Layer\n",
    "gdal.SetConfigOption('SHAPE_ENCODING', '')\n",
    "driver = ogr.GetDriverByName('ESRI Shapefile')\n",
    "working_path = 'D:\\\\Conversion_Area\\\\Python_Training\\\\Data\\\\'\n",
    "datasource = driver.Open(working_path + 'Landmark_sample.shp', 0)\n",
    "layer = datasource.GetLayer()\n",
    "\n",
    "#(2) Select Attribute Filter (ATM)\n",
    "layer.SetAttributeFilter(\"POI_CODE = 9102\")\n",
    "\n",
    "#(3) Create Output Datasource\n",
    "out_fn = working_path + 'ATM.shp'\n",
    "out_datasource = driver.CreateDataSource(out_fn)\n",
    "out_layer = out_datasource.CopyLayer(layer, out_fn, options=['ENCODING=LDID/0'])\n",
    "\n",
    "#(4) Define Encoding & Create CPG file\n",
    "outcpgfile = out_fn.replace('.shp','.cpg')\n",
    "cpgfile = open(outcpgfile,'w')\n",
    "cpgfile.write('OEM 874')\n",
    "cpgfile.close()\n",
    "\n",
    "datasource.Destroy()\n",
    "out_datasource.Destroy()\n",
    "\n",
    "print 'Export Shapefile Complete!'"
   ]
  }
 ],
 "metadata": {
  "kernelspec": {
   "display_name": "Python 2",
   "language": "python",
   "name": "python2"
  },
  "language_info": {
   "codemirror_mode": {
    "name": "ipython",
    "version": 2
   },
   "file_extension": ".py",
   "mimetype": "text/x-python",
   "name": "python",
   "nbconvert_exporter": "python",
   "pygments_lexer": "ipython2",
   "version": "2.7.13"
  }
 },
 "nbformat": 4,
 "nbformat_minor": 2
}
