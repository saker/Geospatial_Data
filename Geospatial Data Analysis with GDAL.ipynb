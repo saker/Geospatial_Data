{
 "cells": [
  {
   "cell_type": "markdown",
   "metadata": {
    "collapsed": true
   },
   "source": [
    "# Introduction to Geospatial Data Analysis with GDAL"
   ]
  },
  {
   "cell_type": "markdown",
   "metadata": {},
   "source": [
    "## Data Format Support"
   ]
  },
  {
   "cell_type": "code",
   "execution_count": null,
   "metadata": {},
   "outputs": [],
   "source": [
    "import ogr\n",
    "\n",
    "driver_list = []\n",
    "for n in range(ogr.GetDriverCount()):\n",
    "    driver = ogr.GetDriver(n)\n",
    "    driverName = driver.GetName()\n",
    "    driver_list.append(driverName)\n",
    "\n",
    "driver_list.sort()\n",
    "print('No. of Support Formats = %d'%len(driver_list))\n",
    "print(driver_list)"
   ]
  },
  {
   "cell_type": "markdown",
   "metadata": {},
   "source": [
    "## Datasource & Layer"
   ]
  },
  {
   "cell_type": "markdown",
   "metadata": {},
   "source": [
    "### OGR Layer Class Reference https://gdal.org/doxygen/classOGRLayer.html"
   ]
  },
  {
   "cell_type": "markdown",
   "metadata": {},
   "source": [
    "## Shapefile Layer Information"
   ]
  },
  {
   "cell_type": "code",
   "execution_count": null,
   "metadata": {},
   "outputs": [],
   "source": [
    "import ogr\n",
    "\n",
    "driver = ogr.GetDriverByName('ESRI Shapefile')\n",
    "datasource = driver.Open('C:\\\\Users\\\\Z00179\\\\Desktop\\\\Python_Training\\\\Data\\\\Landmark.shp', 0)\n",
    "layer = datasource.GetLayer()\n",
    "\n",
    "print('No. of Layers: %d'%datasource.GetLayerCount())\n",
    "print('No. of Features (Records): %d'%layer.GetFeatureCount())\n",
    "print('Layer Name: %s'%layer.GetName())\n",
    "print('Geometry Type: %s'%layer.GetGeomType())\n",
    "\n",
    "#Geometry Type\n",
    "#1=Point, 5=Line, 6=Polygon, 100=None (Table)\n",
    "\n",
    "print('Layer Extent:')\n",
    "ext = layer.GetExtent()\n",
    "print(ext)\n",
    "\n",
    "print('X-Min: %f'%ext[0])\n",
    "print('X-Max: %f'%ext[1])\n",
    "print('Y-Min: %f'%ext[2])\n",
    "print('Y-Max: %f'%ext[3])"
   ]
  },
  {
   "cell_type": "markdown",
   "metadata": {},
   "source": [
    "## FileGDB Layer Information"
   ]
  },
  {
   "cell_type": "code",
   "execution_count": null,
   "metadata": {},
   "outputs": [],
   "source": [
    "import ogr\n",
    "driver = ogr.GetDriverByName('FileGDB')\n",
    "datasource = driver.Open('C:\\\\Users\\\\Z00179\\\\Desktop\\\\Python_Training\\\\Data\\\\Sample_Data.gdb', 0)\n",
    "layer = datasource.GetLayer('L_trans')\n",
    "\n",
    "print('No. of Layers: %d'%datasource.GetLayerCount())\n",
    "for n in range(0, datasource.GetLayerCount()):\n",
    "    layer = datasource.GetLayer(n)\n",
    "    print('No. of Features (Records): %d'%layer.GetFeatureCount())\n",
    "    print('Layer Name: %s'%layer.GetName())\n",
    "    print('Geometry Type: %s'%layer.GetGeomType())\n",
    "\n",
    "    #Geometry Type\n",
    "    #1=Point, 5=Line, 6=Polygon, 100=None (Table)\n",
    "\n",
    "    print('Layer Extent:')\n",
    "    ext = layer.GetExtent()\n",
    "    print(ext)\n",
    "\n",
    "    print('X-Min: %f'%ext[0])\n",
    "    print('X-Max: %f'%ext[1])\n",
    "    print('Y-Min: %f'%ext[2])\n",
    "    print('Y-Max: %f'%ext[3])"
   ]
  },
  {
   "cell_type": "markdown",
   "metadata": {},
   "source": [
    "## List of Shapefile & no. of features in folder"
   ]
  },
  {
   "cell_type": "code",
   "execution_count": null,
   "metadata": {},
   "outputs": [],
   "source": [
    "import ogr\n",
    "import glob\n",
    "\n",
    "driver = ogr.GetDriverByName('ESRI Shapefile')\n",
    "for fn in glob.glob('C:\\\\Users\\\\Z00179\\\\Desktop\\\\Python_Training\\\\Data\\\\*.shp'):\n",
    "    datasource =  driver.Open(fn, 0)\n",
    "    layer = datasource.GetLayer()\n",
    "    print('Layer: %s\\nGeometry Type: %d\\tNo. features: %d\\n'%(layer.GetName(), layer.GetGeomType(), layer.GetFeatureCount()))\n",
    "    datasource.Destroy()"
   ]
  },
  {
   "cell_type": "markdown",
   "metadata": {},
   "source": [
    "## Getting Feature (Use GetFeature) (ESRI Shapefile)"
   ]
  },
  {
   "cell_type": "code",
   "execution_count": null,
   "metadata": {},
   "outputs": [],
   "source": [
    "import gdal, ogr, osr\n",
    "\n",
    "gdal.SetConfigOption('SHAPE_ENCODING', 'CP874') #Codepage\n",
    "driver = ogr.GetDriverByName('ESRI Shapefile')\n",
    "datasource = driver.Open('C:\\\\Users\\\\Z00179\\\\Desktop\\\\Python_Training\\\\Data\\\\Landmark.shp', 0)\n",
    "layer = datasource.GetLayer()\n",
    "\n",
    "feature = layer.GetFeature(999) #FID\n",
    "print('ID:', feature.GetField('ID'))\n",
    "print('NAME:', feature.GetFieldAsString('NAME'))\n",
    "print('NAME_ENG:', feature.GetFieldAsString('NAME_ENG'))"
   ]
  },
  {
   "cell_type": "markdown",
   "metadata": {},
   "source": [
    "## Getting Feature (Use GetFeature) (File Geodadatabase)"
   ]
  },
  {
   "cell_type": "code",
   "execution_count": null,
   "metadata": {},
   "outputs": [],
   "source": [
    "import gdal, ogr, osr\n",
    "\n",
    "driver = ogr.GetDriverByName('FileGDB')\n",
    "datasource = driver.Open('C:\\\\Users\\\\Z00179\\\\Desktop\\\\Python_Training\\\\Data\\\\Sample_Data.gdb', 0)\n",
    "layer = datasource.GetLayer('Landmark')\n",
    "\n",
    "feature = layer.GetFeature(999) #OBJECTID\n",
    "print('ID:', feature.GetField('ID'))\n",
    "print('NAME:', feature.GetFieldAsString('NAME'))\n",
    "print('NAME_ENG:', feature.GetFieldAsString('NAME_ENG'))"
   ]
  },
  {
   "cell_type": "markdown",
   "metadata": {},
   "source": [
    "## Getting Feature (Use GetNextFeature)"
   ]
  },
  {
   "cell_type": "code",
   "execution_count": null,
   "metadata": {},
   "outputs": [],
   "source": [
    "import gdal, ogr, osr\n",
    "\n",
    "gdal.SetConfigOption('SHAPE_ENCODING', 'CP874') #Shape file codepage\n",
    "driver = ogr.GetDriverByName('ESRI Shapefile')\n",
    "datasource = driver.Open('C:\\\\Users\\\\Z00179\\\\Desktop\\\\Python_Training\\\\Data\\\\Admin_Poly.shp', 0)\n",
    "layer = datasource.GetLayer()\n",
    "\n",
    "feature = layer.GetNextFeature()\n",
    "while feature:\n",
    "    ADMIN_ID = feature.GetFieldAsString('ADMIN_ID')\n",
    "    NAME3 = feature.GetFieldAsString('NAME3')\n",
    "    NAME_ENG3 = feature.GetFieldAsString('NAME_ENG3')\n",
    "    print('ADMIN_ID=%s NAME3=%s, NAME_ENG3=%s'%(ADMIN_ID, NAME3, NAME_ENG3))\n",
    "    feature.Destroy()\n",
    "    feature = layer.GetNextFeature()\n",
    "datasource.Destroy()"
   ]
  },
  {
   "cell_type": "markdown",
   "metadata": {},
   "source": [
    "## Open Excel File (xlsx format)"
   ]
  },
  {
   "cell_type": "code",
   "execution_count": null,
   "metadata": {},
   "outputs": [],
   "source": [
    "import gdal, ogr, osr\n",
    "\n",
    "gdal.SetConfigOption('OGR_XLSX_HEADERS','FORCE') #Header ใน Row ที่ 1 จะคือชื่อ Fields\n",
    "driver = ogr.GetDriverByName('XLSX')\n",
    "datasource = driver.Open('C:\\\\Users\\\\Z00179\\\\Desktop\\\\Python_Training\\\\Data\\\\Admin_Table.xlsx', 0)\n",
    "layer = datasource.GetLayer('Admin')\n",
    "\n",
    "print('No. of Layers: %d'%datasource.GetLayerCount())\n",
    "print('No. of Features (Records): %d'%layer.GetFeatureCount())\n",
    "\n",
    "feature = layer.GetNextFeature()\n",
    "while feature:\n",
    "    ADMIN_ID = feature.GetFieldAsString('ADMIN_ID')\n",
    "    TAMBON = feature.GetFieldAsString('TAMBON')\n",
    "    AMPHOE = feature.GetFieldAsString('AMPHOE')\n",
    "    PROVINCE = feature.GetFieldAsString('PROVINCE')\n",
    "    ADDRESS = feature.GetFieldAsString('ADDRESS') #Formula Return Value\n",
    "    CHARACTER_COUNT = feature.GetField('CHARACTER_COUNT') #Formula Return Value\n",
    "    POSTCODE = feature.GetFieldAsString('POSTCODE')\n",
    "    print('ADMIN_ID=%s TAMBON=%s AMPHOE=%s PROVINCE=%s'%(ADMIN_ID, TAMBON, AMPHOE, PROVINCE))\n",
    "    print('ADDRESS=%s CHARACTER_COUNT=%d POSTCODE=%s\\n'%(ADDRESS, CHARACTER_COUNT, POSTCODE))\n",
    "    feature.Destroy()\n",
    "    feature = layer.GetNextFeature()\n",
    "datasource.Destroy()"
   ]
  },
  {
   "cell_type": "markdown",
   "metadata": {},
   "source": [
    "## Get Attribute from each Feature in a Layer"
   ]
  },
  {
   "cell_type": "code",
   "execution_count": null,
   "metadata": {},
   "outputs": [],
   "source": [
    "import gdal, ogr, osr\n",
    "\n",
    "gdal.SetConfigOption('SHAPE_ENCODING', 'CP874') #Shape file codepage\n",
    "driver = ogr.GetDriverByName('ESRI Shapefile')\n",
    "datasource = driver.Open('C:\\\\Users\\\\Z00179\\\\Desktop\\\\Python_Training\\\\Data\\\\Landmark_Simple.shp', 0)\n",
    "layer = datasource.GetLayer()\n",
    "recset = layer.GetNextFeature()\n",
    "while recset:\n",
    "    POI_Code = recset.GetField('POI_CODE')\n",
    "    Name = recset.GetFieldAsString('NAME')\n",
    "    print(POI_Code, Name)\n",
    "    recset.Destroy()\n",
    "    recset = layer.GetNextFeature()\n",
    "\n",
    "datasource.Destroy()  "
   ]
  },
  {
   "cell_type": "markdown",
   "metadata": {},
   "source": [
    "## Edit Attribute in Existing Data"
   ]
  },
  {
   "cell_type": "code",
   "execution_count": null,
   "metadata": {},
   "outputs": [],
   "source": [
    "import gdal, ogr, osr\n",
    "\n",
    "#(1) Assign Existing Layer\n",
    "gdal.SetConfigOption('SHAPE_ENCODING', 'CP874') #Shape file codepage\n",
    "driver = ogr.GetDriverByName('ESRI Shapefile')\n",
    "datasource = driver.Open('C:\\\\Users\\\\Z00179\\\\Desktop\\\\Python_Training\\\\Data\\\\L_trans.shp', 1)\n",
    "layer = datasource.GetLayer()\n",
    "    \n",
    "#(2) Loop on Exiting Shapefile\n",
    "recset = layer.GetNextFeature()\n",
    "while recset:\n",
    "    #(3.1) Get Attribute <Condition Rule>\n",
    "    Road_Class = recset.GetField('RDLNCLASS')\n",
    "    Road_Condition = recset.GetField('RC')\n",
    "    \n",
    "    if (Road_Class == 61) or (Road_Condition == 1):\n",
    "        No_Routing = 1\n",
    "    else:\n",
    "        No_Routing = 0\n",
    "        \n",
    "    #(3.2) Attribute Calculation\n",
    "    Road_Name = recset.GetFieldAsString('NAME')\n",
    "    Road_Prefix = recset.GetFieldAsString('NAME_PF')\n",
    "    Road_Append_Name = Road_Prefix + Road_Name\n",
    "   \n",
    "    #(4) Update Fields    \n",
    "    recset.SetField('NO_ROUTING', No_Routing)\n",
    "    recset.SetField('ROAD_NAME', Road_Append_Name)\n",
    "    layer.SetFeature(recset)\n",
    "\n",
    "    recset.Destroy()\n",
    "    recset = layer.GetNextFeature()\n",
    "\n",
    "datasource.Destroy()\n",
    "\n",
    "print('Update Field Complete!')"
   ]
  },
  {
   "cell_type": "markdown",
   "metadata": {
    "collapsed": true
   },
   "source": [
    "## Create Feature in Exising Data"
   ]
  },
  {
   "cell_type": "code",
   "execution_count": null,
   "metadata": {},
   "outputs": [],
   "source": [
    "import gdal, ogr, osr\n",
    "\n",
    "#(1) Assign Existing Layer\n",
    "gdal.SetConfigOption('SHAPE_ENCODING', 'CP874') #Shape file codepage\n",
    "driver = ogr.GetDriverByName('ESRI Shapefile')\n",
    "datasource = driver.Open('C:\\\\Users\\\\Z00179\\\\Desktop\\\\Python_Training\\\\Data\\\\Landmark_Simple.shp', 1)\n",
    "layer = datasource.GetLayer()\n",
    "\n",
    "#(2) Create Point Feature\n",
    "#Merkator@ตึกไทย\n",
    "X1 = 668334.249\n",
    "Y1 = 1517293.049\n",
    "pt = ogr.Geometry(ogr.wkbPoint)\n",
    "pt.AddPoint(X1, Y1)\n",
    "\n",
    "#(3) Create Feature\n",
    "feature = ogr.Feature(layer.GetLayerDefn())\n",
    "feature.SetGeometry(pt)\n",
    "feature.SetField('ID', 9999)\n",
    "feature.SetField('NAME', 'บริษัทเมอร์เคเทอร์ จำกัด')\n",
    "feature.SetField('NAME_ENG', 'Merkator Co., Ltd.')\n",
    "layer.CreateFeature(feature)\n",
    "feature.Destroy()\n",
    "\n",
    "datasource.Destroy()\n",
    "print('Create Shapefile Complete!')"
   ]
  },
  {
   "cell_type": "markdown",
   "metadata": {},
   "source": [
    "## Create New Layer (Point Feature)"
   ]
  },
  {
   "cell_type": "code",
   "execution_count": null,
   "metadata": {},
   "outputs": [],
   "source": [
    "import gdal, ogr, osr\n",
    "\n",
    "#(1) Define Datasource (Shapefile filename)\n",
    "gdal.SetConfigOption('SHAPE_ENCODING', 'CP874') #Shape file codepage\n",
    "driver = ogr.GetDriverByName('ESRI Shapefile')\n",
    "output_fn = 'C:\\\\Users\\\\Z00179\\\\Desktop\\\\Python_Training\\\\Data\\\\New_Point_Shape.shp'\n",
    "datasource = driver.CreateDataSource(output_fn)\n",
    "\n",
    "#(2) Create Layer\n",
    "layer = datasource.CreateLayer('New_Point', geom_type = ogr.wkbPoint)\n",
    "\n",
    "#(3) Define Fields\n",
    "fldDef = ogr.FieldDefn('ID', ogr.OFTInteger)\n",
    "fldDef.SetWidth(10)\n",
    "layer.CreateField(fldDef)\n",
    "fldDef.Destroy()\n",
    "\n",
    "fldDef = ogr.FieldDefn('NAME', ogr.OFTString)\n",
    "fldDef.SetWidth(100)\n",
    "layer.CreateField(fldDef)\n",
    "fldDef.Destroy()\n",
    "\n",
    "fldDef = ogr.FieldDefn('X', ogr.OFTReal)\n",
    "fldDef.SetWidth(13)\n",
    "fldDef.SetPrecision(3)\n",
    "layer.CreateField(fldDef)\n",
    "fldDef.Destroy()\n",
    "\n",
    "fldDef = ogr.FieldDefn('Y', ogr.OFTReal)\n",
    "fldDef.SetWidth(13)\n",
    "fldDef.SetPrecision(3)\n",
    "layer.CreateField(fldDef)\n",
    "fldDef.Destroy()\n",
    "\n",
    "#(4) Create Feature(Record)\n",
    "#Merkator@ตึกไทย\n",
    "X1 = 668334.249\n",
    "Y1 = 1517293.049\n",
    "NAME1 = 'Merkator@ตึกไทย'\n",
    "\n",
    "#สวนลุมพินี\n",
    "X2 = 666688.717\n",
    "Y2 = 1518547.977\n",
    "NAME2 = 'สวนลุมพินี'\n",
    "\n",
    "#แยกอโศก\n",
    "X3 = 668816.215\n",
    "Y3 = 1519134.436\n",
    "NAME3 = '#แยกอโศก'\n",
    "\n",
    "#แยกคลองเตย\n",
    "X4 = 668432.568\n",
    "Y4 = 1517388.183 \n",
    "NAME4 = 'แยกคลองเตย'\n",
    "\n",
    "#Point Geometry\n",
    "pt = ogr.Geometry(ogr.wkbPoint)\n",
    "pt.AddPoint(X1, Y1)\n",
    "\n",
    "feature = ogr.Feature(layer.GetLayerDefn())\n",
    "feature.SetGeometry(pt)\n",
    "feature.SetField('ID', 1)\n",
    "feature.SetField('NAME', NAME1)\n",
    "feature.SetField('X', X1)\n",
    "feature.SetField('Y', Y1)\n",
    "layer.CreateFeature(feature)\n",
    "feature.Destroy()\n",
    "\n",
    "datasource.Destroy()\n",
    "print('Create Shapefile Complete!')"
   ]
  },
  {
   "cell_type": "markdown",
   "metadata": {},
   "source": [
    "## Create New Layer (Polyline Feature)"
   ]
  },
  {
   "cell_type": "code",
   "execution_count": null,
   "metadata": {},
   "outputs": [],
   "source": [
    "import gdal, ogr, osr\n",
    "\n",
    "#(1) Define Datasource (Shapefile filename)\n",
    "gdal.SetConfigOption('SHAPE_ENCODING', 'CP874') #Shape file codepage\n",
    "driver = ogr.GetDriverByName('ESRI Shapefile')\n",
    "output_fn = 'C:\\\\Users\\\\Z00179\\\\Desktop\\\\Python_Training\\\\Data\\\\New_Line_Shape.shp'\n",
    "datasource = driver.CreateDataSource(output_fn)\n",
    "\n",
    "#(2) Create Layer\n",
    "layer = datasource.CreateLayer('New_Point', geom_type=ogr.wkbLineString)\n",
    "\n",
    "#(3) Define Fields\n",
    "fldDef = ogr.FieldDefn('ID', ogr.OFTInteger)\n",
    "fldDef.SetWidth(10)\n",
    "layer.CreateField(fldDef)\n",
    "fldDef.Destroy()\n",
    "\n",
    "fldDef = ogr.FieldDefn('NAME', ogr.OFTString)\n",
    "fldDef.SetWidth(100)\n",
    "layer.CreateField(fldDef)\n",
    "fldDef.Destroy()\n",
    "\n",
    "fldDef = ogr.FieldDefn('LENGTH', ogr.OFTReal)\n",
    "fldDef.SetWidth(13)\n",
    "fldDef.SetPrecision(3)\n",
    "layer.CreateField(fldDef)\n",
    "fldDef.Destroy()\n",
    "\n",
    "#(4) Create Feature(Record)\n",
    "#Merkator@ตึกไทย\n",
    "X1 = 668334.249\n",
    "Y1 = 1517293.049\n",
    "\n",
    "#สวนลุมพินี\n",
    "X2 = 666688.717\n",
    "Y2 = 1518547.977\n",
    "\n",
    "#แยกอโศก\n",
    "X3 = 668816.215\n",
    "Y3 = 1519134.436\n",
    "\n",
    "#แยกคลองเตย\n",
    "X4 = 668432.568\n",
    "Y4 = 1517388.183 \n",
    "\n",
    "#Line Geometry\n",
    "ln = ogr.Geometry(ogr.wkbLineString)\n",
    "ln.AddPoint(X1, Y1)\n",
    "ln.AddPoint(X2, Y2)\n",
    "ln.AddPoint(X3, Y3)\n",
    "ln.AddPoint(X4, Y4)\n",
    "\n",
    "feature = ogr.Feature(layer.GetLayerDefn())\n",
    "feature.SetGeometry(ln)\n",
    "feature.SetField('ID', 1)\n",
    "feature.SetField('NAME', 'Merkator Route')\n",
    "feature.SetField('LENGTH', ln.Length())\n",
    "layer.CreateFeature(feature)\n",
    "feature.Destroy()\n",
    "\n",
    "datasource.Destroy()\n",
    "print('Create Shapefile Complete!')"
   ]
  },
  {
   "cell_type": "markdown",
   "metadata": {},
   "source": [
    "## Create New Layer (Polygon Feature)"
   ]
  },
  {
   "cell_type": "code",
   "execution_count": null,
   "metadata": {},
   "outputs": [],
   "source": [
    "import gdal, ogr, osr\n",
    "\n",
    "#(1) Define Datasource (Shapefile filename)\n",
    "gdal.SetConfigOption('SHAPE_ENCODING', 'CP874') #Shape file codepage\n",
    "driver = ogr.GetDriverByName('ESRI Shapefile')\n",
    "output_fn = 'C:\\\\Users\\\\Z00179\\\\Desktop\\\\Python_Training\\\\Data\\\\New_Polygon_Shape.shp'\n",
    "datasource = driver.CreateDataSource(output_fn)\n",
    "\n",
    "#(2) Create Layer\n",
    "layer = datasource.CreateLayer('New_Point', geom_type=ogr.wkbPolygon)\n",
    "\n",
    "#(3) Define Fields\n",
    "fldDef = ogr.FieldDefn('ID', ogr.OFTInteger)\n",
    "fldDef.SetWidth(10)\n",
    "layer.CreateField(fldDef)\n",
    "fldDef.Destroy()\n",
    "\n",
    "fldDef = ogr.FieldDefn('NAME', ogr.OFTString)\n",
    "fldDef.SetWidth(100)\n",
    "layer.CreateField(fldDef)\n",
    "fldDef.Destroy()\n",
    "\n",
    "fldDef = ogr.FieldDefn('PERIMETER', ogr.OFTReal)\n",
    "fldDef.SetWidth(13)\n",
    "fldDef.SetPrecision(3)\n",
    "layer.CreateField(fldDef)\n",
    "fldDef.Destroy()\n",
    "\n",
    "fldDef = ogr.FieldDefn('AREA', ogr.OFTReal)\n",
    "fldDef.SetWidth(13)\n",
    "fldDef.SetPrecision(3)\n",
    "layer.CreateField(fldDef)\n",
    "fldDef.Destroy()\n",
    "\n",
    "#(4) Create Feature(Record)\n",
    "#Merkator@ตึกไทย\n",
    "X1 = 668334.249\n",
    "Y1 = 1517293.049\n",
    "\n",
    "#สวนลุมพินี\n",
    "X2 = 666688.717\n",
    "Y2 = 1518547.977\n",
    "\n",
    "#แยกอโศก\n",
    "X3 = 668816.215\n",
    "Y3 = 1519134.436\n",
    "\n",
    "#แยกคลองเตย\n",
    "X4 = 668432.568\n",
    "Y4 = 1517388.183\n",
    "\n",
    "#Polygon Geometry\n",
    "ring = ogr.Geometry(ogr.wkbLinearRing)\n",
    "ring.AddPoint(X1, Y1)\n",
    "ring.AddPoint(X2, Y2)\n",
    "ring.AddPoint(X3, Y3)\n",
    "ring.AddPoint(X4, Y4)\n",
    "ring.AddPoint(X1, Y1)\n",
    "poly = ogr.Geometry(ogr.wkbPolygon)\n",
    "poly.AddGeometry(ring)\n",
    "\n",
    "feature = ogr.Feature(layer.GetLayerDefn())\n",
    "feature.SetGeometry(poly)\n",
    "feature.SetField('ID', 1)\n",
    "feature.SetField('NAME', 'Merkator Polygon')\n",
    "feature.SetField('PERIMETER', poly.Boundary().Length())\n",
    "feature.SetField('AREA', poly.GetArea())\n",
    "layer.CreateFeature(feature)\n",
    "feature.Destroy()\n",
    "\n",
    "#Generate Buffer from Point\n",
    "pt = ogr.Geometry(ogr.wkbPoint)\n",
    "pt.AddPoint(X1, Y1)\n",
    "buffer_poly = pt.Buffer(100)\n",
    "\n",
    "feature = ogr.Feature(layer.GetLayerDefn())\n",
    "feature.SetGeometry(buffer_poly)\n",
    "feature.SetField('ID', 2)\n",
    "feature.SetField('NAME', 'Merkator Buffer')\n",
    "feature.SetField('PERIMETER', buffer_poly.Boundary().Length())\n",
    "feature.SetField('AREA', buffer_poly.GetArea())\n",
    "layer.CreateFeature(feature)\n",
    "feature.Destroy()\n",
    "    \n",
    "datasource.Destroy()\n",
    "print('Create Shapefile Complete!')"
   ]
  },
  {
   "cell_type": "markdown",
   "metadata": {},
   "source": [
    "## Attribute Filtes"
   ]
  },
  {
   "cell_type": "code",
   "execution_count": null,
   "metadata": {},
   "outputs": [],
   "source": [
    "import gdal, ogr, osr\n",
    "\n",
    "gdal.SetConfigOption('SHAPE_ENCODING', 'CP874') #Shape file codepage\n",
    "driver = ogr.GetDriverByName('ESRI Shapefile')\n",
    "datasource = driver.Open('C:\\\\Users\\\\Z00179\\\\Desktop\\\\Python_Training\\\\Data\\\\Landmark.shp', 0)\n",
    "layer = datasource.GetLayer()\n",
    "\n",
    "print('[Original] No. of Features(Records): %d\\n'%layer.GetFeatureCount())\n",
    "\n",
    "#Example SQL\n",
    "#sql = \"POI_CODE = 7315\" #Find No. of Restaurant <Nunber>\n",
    "sql = \"ID > 20000 AND ID < 30000\"\n",
    "#sql = \"LOCAL_CODE = '21102'\" #Find No. of 7-11 <String>\n",
    "#sql = \"NAME like 'โรงเรียน%'\"   #Find POI ที่ขึ้นต้นด้วย โรงเรียน\n",
    "\n",
    "layer.SetAttributeFilter(sql)\n",
    "print(sql)\n",
    "print('[Atrribute Filters] No. of Features(Records): %d'%layer.GetFeatureCount())\n",
    "\n",
    "layer.SetAttributeFilter(None)\n",
    "print('[Reset to Original] No. of Features(Records): %d'%layer.GetFeatureCount())\n",
    "\n",
    "datasource.Destroy()"
   ]
  },
  {
   "cell_type": "code",
   "execution_count": null,
   "metadata": {},
   "outputs": [],
   "source": [
    "import gdal, ogr, osr\n",
    "\n",
    "gdal.SetConfigOption('SHAPE_ENCODING', 'CP874') #Shape file codepage\n",
    "driver = ogr.GetDriverByName('ESRI Shapefile')\n",
    "datasource = driver.Open('C:\\\\Users\\\\Z00179\\\\Desktop\\\\Python_Training\\\\Data\\\\Landmark_Simple.shp', 0)\n",
    "layer = datasource.GetLayer()\n",
    "\n",
    "sql = \"POI_CODE = 7315\" #Find No. of Restaurant <Nunber>\n",
    "#sql = \"ID > 20000 AND ID < 30000\"\n",
    "#sql = \"LOCAL_CODE = '21102'\" #Find No. of 7-11 <String>\n",
    "#sql = \"NAME like 'โรงเรียน%'\"   #Find POI ที่ขึ้นต้นด้วย โรงเรียน\n",
    "\n",
    "layer.SetAttributeFilter(sql)\n",
    "print('No. of Features (Records): %d'%layer.GetFeatureCount())\n",
    "recset = layer.GetNextFeature()\n",
    "while recset:\n",
    "    ID = recset.GetField('ID')\n",
    "    Name = recset.GetFieldAsString('NAME')\n",
    "    print(ID, Name)\n",
    "    recset.Destroy()\n",
    "    recset = layer.GetNextFeature()\n",
    "\n",
    "datasource.Destroy()  "
   ]
  },
  {
   "cell_type": "markdown",
   "metadata": {},
   "source": [
    "## Create Attribute Index"
   ]
  },
  {
   "cell_type": "code",
   "execution_count": null,
   "metadata": {},
   "outputs": [],
   "source": [
    "import gdal, ogr, osr\n",
    "import time\n",
    "\n",
    "StartTime = time.time()\n",
    "\n",
    "gdal.SetConfigOption('SHAPE_ENCODING', 'CP874') #Shape file codepage\n",
    "driver = ogr.GetDriverByName('ESRI Shapefile')\n",
    "datasource = driver.Open('C:\\\\Users\\\\Z00179\\\\Desktop\\\\Python_Training\\\\Data\\\\Landmark.shp', 0)\n",
    "\n",
    "#Create Attribute Index\n",
    "#datasource.ExecuteSQL(\"CREATE INDEX ON landmark USING id\") #Use lower Case in Layer Name & Fields Name\n",
    "#StopTime = time.time()\n",
    "#print('Build Index Time Complete: %4.2f Seconds'%(StopTime-StartTime))\n",
    "\n",
    "layer = datasource.GetLayer()\n",
    "print('[All] No. of Features (Records): %d'%layer.GetFeatureCount())\n",
    "\n",
    "sql = \"ID = 1713432\"\n",
    "layer.SetAttributeFilter(sql)\n",
    "print('[Selection] No. of Features (Records): %d'%layer.GetFeatureCount())\n",
    "\n",
    "StopTime = time.time()\n",
    "print('Time Complete: %4.2f Seconds'%(StopTime-StartTime))\n",
    "\n",
    "datasource.Destroy() \n",
    "\n",
    "#Benchmark No Index\n",
    "#[All] No. of Features (Records): 14467\n",
    "#[Selection] No. of Features (Records): 1\n",
    "#Time Complete: 0.72 Seconds\n",
    "\n",
    "#Build Index Time Complete: 1.44 Seconds\n",
    "\n",
    "#Benchmark Has Index\n",
    "#[All] No. of Features (Records): 14467\n",
    "#[Selection] No. of Features (Records): 1\n",
    "#Time Complete: 0.00 Seconds"
   ]
  },
  {
   "cell_type": "markdown",
   "metadata": {},
   "source": [
    "## Create New Excel File"
   ]
  },
  {
   "cell_type": "code",
   "execution_count": null,
   "metadata": {},
   "outputs": [],
   "source": [
    "import gdal, ogr, osr\n",
    "\n",
    "#----------------------------------------------------------------------------------\n",
    "#(1) Create Datasource\n",
    "gdal.SetConfigOption('OGR_XLSX_HEADERS','FORCE') #Header ใน Row ที่ 1 จะคือชื่อ Fields\n",
    "driver1 = ogr.GetDriverByName('XLSX')\n",
    "output_fn = 'C:\\\\Users\\\\Z00179\\\\Desktop\\\\Python_Training\\\\Data\\\\New_Table.xlsx'\n",
    "datasource1 = driver1.CreateDataSource(output_fn)\n",
    "\n",
    "#(2) Create Layer\n",
    "TableLYR = datasource1.CreateLayer('Table', geom_type = ogr.wkbNone)\n",
    "\n",
    "#(3) Define Fields\n",
    "fldDef = ogr.FieldDefn('POI_CODE', ogr.OFTInteger)\n",
    "fldDef.SetWidth(10)\n",
    "TableLYR.CreateField(fldDef)\n",
    "fldDef.Destroy()\n",
    "\n",
    "fldDef = ogr.FieldDefn('COUNT', ogr.OFTInteger)\n",
    "fldDef.SetWidth(10)\n",
    "TableLYR.CreateField(fldDef)\n",
    "fldDef.Destroy()\n",
    "#----------------------------------------------------------------------------------\n",
    "\n",
    "gdal.SetConfigOption('SHAPE_ENCODING', 'CP874') #Shape file codepage\n",
    "driver2 = ogr.GetDriverByName('ESRI Shapefile')\n",
    "datasource2 = driver2.Open('C:\\\\Users\\\\Z00179\\\\Desktop\\\\Python_Training\\\\Data\\\\Landmark.shp', 0)\n",
    "\n",
    "#Create Attribute Index\n",
    "datasource2.ExecuteSQL(\"CREATE INDEX ON landmark USING poi_code\") #Use lower Case in Layer Name & Fields Name\n",
    "layer = datasource2.GetLayer()\n",
    "\n",
    "POI_Code_List = [7315, 7314, 9996] #ร้านอาหาร, โรงแรม, ร้านกาแฟ\n",
    "\n",
    "for POI_Code in POI_Code_List:\n",
    "    sql = \"POI_CODE = %d\"%POI_Code\n",
    "    layer.SetAttributeFilter(None)\n",
    "    layer.SetAttributeFilter(sql)\n",
    "    POI_Count = layer.GetFeatureCount()\n",
    "    \n",
    "    #Write Data to Excel\n",
    "    Rec = ogr.Feature(TableLYR.GetLayerDefn())\n",
    "    Rec.SetField('POI_CODE', POI_Code)\n",
    "    Rec.SetField('COUNT', POI_Count)\n",
    "    TableLYR.CreateFeature(Rec)\n",
    "    Rec.Destroy()\n",
    "\n",
    "datasource2.Destroy()\n",
    "datasource1.Destroy()\n",
    "\n",
    "print('Create Excel Table Complete!')"
   ]
  },
  {
   "cell_type": "markdown",
   "metadata": {},
   "source": [
    "## Fields (Feature Definition)"
   ]
  },
  {
   "cell_type": "code",
   "execution_count": null,
   "metadata": {},
   "outputs": [],
   "source": [
    "import gdal, ogr, osr\n",
    "\n",
    "gdal.SetConfigOption('SHAPE_ENCODING', 'CP874') #Shape file codepage\n",
    "driver = ogr.GetDriverByName('ESRI Shapefile')\n",
    "datasource = driver.Open('C:\\\\Users\\\\Z00179\\\\Desktop\\\\Python_Training\\\\Data\\\\L_trans.shp', 0)\n",
    "layer = datasource.GetLayer()\n",
    "\n",
    "layerDefn = layer.GetLayerDefn()\n",
    "print('No. of Fields: %d'%layerDefn.GetFieldCount())\n",
    "print('Geometry Type: %d'%layerDefn.GetGeomType())\n",
    "#1=Point\n",
    "#2=Line\n",
    "#3=Polygon\n",
    "for n in range(0, layerDefn.GetFieldCount()):\n",
    "    fld = layerDefn.GetFieldDefn(n)\n",
    "    print('Field Name: %s [%s, Width=%d, Precision=%d]'%(fld.GetName(), fld.GetTypeName(), fld.GetWidth(), fld.GetPrecision()))\n",
    "    \n",
    "datasource.Destroy()"
   ]
  },
  {
   "cell_type": "markdown",
   "metadata": {},
   "source": [
    "# Geometry"
   ]
  },
  {
   "cell_type": "markdown",
   "metadata": {},
   "source": [
    "## GDAL Geometry Class\n",
    "\n",
    "https://gdal.org/doxygen/classOGRGeometry.html\n",
    "\n",
    "## Geometry Cookbook\n",
    "https://pcjericks.github.io/py-gdalogr-cookbook/geometry.html"
   ]
  },
  {
   "cell_type": "markdown",
   "metadata": {},
   "source": [
    "## Geometry Information"
   ]
  },
  {
   "cell_type": "code",
   "execution_count": null,
   "metadata": {},
   "outputs": [],
   "source": [
    "import gdal, ogr, osr\n",
    "\n",
    "gdal.SetConfigOption('SHAPE_ENCODING', 'CP874') #Shape file codepage\n",
    "driver = ogr.GetDriverByName('ESRI Shapefile')\n",
    "datasource = driver.Open('C:\\\\Users\\\\Z00179\\\\Desktop\\\\Python_Training\\\\Data\\\\Admin_Poly.shp', 0)\n",
    "layer = datasource.GetLayer()\n",
    "recset = layer.GetNextFeature()\n",
    "while recset:\n",
    "    geom = recset.GetGeometryRef()\n",
    "    print('Geometry Name: %s'%geom.GetGeometryName())\n",
    "    \n",
    "    ID = recset.GetField('ID')\n",
    "    \n",
    "    ##Point Geometry    \n",
    "    #print(ID, 'X-Y Position (%f, %f)'%(geom.GetX(), geom.GetY()))\n",
    "    \n",
    "    #Line Geometry\n",
    "    #print(ID, 'Length: %f'%geom.Length())\n",
    "    \n",
    "    #Polygon Geometry\n",
    "    print(ID, 'Area: %f'%geom.GetArea())\n",
    "    print(ID, 'Perimeter: %f'%geom.Boundary().Length())\n",
    "  \n",
    "    pt = geom.Centroid()\n",
    "    print(ID, 'Centroid X=%f, Centroid Y=%f'%(pt.GetX(), pt.GetY())) \n",
    "        \n",
    "    recset.Destroy()\n",
    "    recset = layer.GetNextFeature()\n",
    "\n",
    "datasource.Destroy()\n"
   ]
  },
  {
   "cell_type": "markdown",
   "metadata": {},
   "source": [
    "## Geometry Extent"
   ]
  },
  {
   "cell_type": "code",
   "execution_count": null,
   "metadata": {},
   "outputs": [],
   "source": [
    "import gdal, ogr, osr\n",
    "\n",
    "gdal.SetConfigOption('SHAPE_ENCODING', 'CP874') #Shape file codepage\n",
    "driver = ogr.GetDriverByName('ESRI Shapefile')\n",
    "datasource = driver.Open('C:\\\\Users\\\\Z00179\\\\Desktop\\\\Python_Training\\\\Data\\\\Admin_Poly.shp', 0)\n",
    "layer = datasource.GetLayer()\n",
    "recset = layer.GetNextFeature()\n",
    "while recset:\n",
    "    geom = recset.GetGeometryRef()\n",
    "    geom_ext = geom.GetEnvelope()\n",
    "    ID = recset.GetField('ID')\n",
    "    print(ID, geom_ext)\n",
    "    print('X-Min, X-Max, Y-Min, Y-Max: ', geom_ext[0], geom_ext[1], geom_ext[2], geom_ext[3])\n",
    "     \n",
    "    recset.Destroy()\n",
    "    recset = layer.GetNextFeature()\n",
    "\n",
    "datasource.Destroy()"
   ]
  },
  {
   "cell_type": "markdown",
   "metadata": {},
   "source": [
    "## Geometry WKT"
   ]
  },
  {
   "cell_type": "code",
   "execution_count": null,
   "metadata": {},
   "outputs": [],
   "source": [
    "import gdal, ogr, osr\n",
    "\n",
    "gdal.SetConfigOption('SHAPE_ENCODING', 'CP874') #Shape file codepage\n",
    "driver = ogr.GetDriverByName('ESRI Shapefile')\n",
    "datasource = driver.Open('C:\\\\Users\\\\Z00179\\\\Desktop\\\\Python_Training\\\\Data\\\\Admin_Poly_Simple.shp', 0)\n",
    "layer = datasource.GetLayer()\n",
    "recset = layer.GetNextFeature()\n",
    "while recset:\n",
    "    geom = recset.GetGeometryRef()\n",
    "    ID = recset.GetField('ID')\n",
    "    print(ID, geom.ExportToWkt())\n",
    "     \n",
    "    recset.Destroy()\n",
    "    recset = layer.GetNextFeature()\n",
    "\n",
    "datasource.Destroy()\n",
    "          "
   ]
  },
  {
   "cell_type": "markdown",
   "metadata": {},
   "source": [
    "## Get Point from Point"
   ]
  },
  {
   "cell_type": "code",
   "execution_count": null,
   "metadata": {},
   "outputs": [],
   "source": [
    "import gdal, ogr, osr\n",
    "\n",
    "gdal.SetConfigOption('SHAPE_ENCODING', 'CP874') #Shape file codepage\n",
    "driver = ogr.GetDriverByName('ESRI Shapefile')\n",
    "datasource = driver.Open('C:\\\\Users\\\\Z00179\\\\Desktop\\\\Python_Training\\\\Data\\\\Landmark_Simple.shp', 0)\n",
    "layer = datasource.GetLayer()\n",
    "recset = layer.GetNextFeature()\n",
    "while recset:\n",
    "    ID = recset.GetField('ID')\n",
    "    pt = recset.GetGeometryRef()\n",
    "    print(ID, 'POINT (%f %f)'%(pt.GetX(), pt.GetY()))\n",
    "     \n",
    "    recset.Destroy()\n",
    "    recset = layer.GetNextFeature()\n",
    "\n",
    "datasource.Destroy()"
   ]
  },
  {
   "cell_type": "markdown",
   "metadata": {},
   "source": [
    "## Get Point from Polyline"
   ]
  },
  {
   "cell_type": "code",
   "execution_count": null,
   "metadata": {},
   "outputs": [],
   "source": [
    "import gdal, ogr, osr\n",
    "\n",
    "gdal.SetConfigOption('SHAPE_ENCODING', 'CP874') #Shape file codepage\n",
    "driver = ogr.GetDriverByName('ESRI Shapefile')\n",
    "datasource = driver.Open('C:\\\\Users\\\\Z00179\\\\Desktop\\\\Python_Training\\\\Data\\\\L_trans_Simple.shp', 0)\n",
    "layer = datasource.GetLayer()\n",
    "recset = layer.GetNextFeature()\n",
    "while recset:\n",
    "    ID = recset.GetField('ID')\n",
    "    ln = recset.GetGeometryRef()\n",
    "    for n in range(0, ln.GetPointCount()):\n",
    "        # GetPoint returns a tuple not a Geometry\n",
    "        print(ID, '[%d] POINT (%f %f)'%(n, ln.GetX(n), ln.GetY(n)))\n",
    "     \n",
    "    recset.Destroy()\n",
    "    recset = layer.GetNextFeature()\n",
    "\n",
    "datasource.Destroy()"
   ]
  },
  {
   "cell_type": "markdown",
   "metadata": {},
   "source": [
    "## Get Point from Polygon"
   ]
  },
  {
   "cell_type": "code",
   "execution_count": null,
   "metadata": {},
   "outputs": [],
   "source": [
    "import gdal, ogr, osr\n",
    "\n",
    "gdal.SetConfigOption('SHAPE_ENCODING', 'CP874') #Shape file codepage\n",
    "driver = ogr.GetDriverByName('ESRI Shapefile')\n",
    "datasource = driver.Open('C:\\\\Users\\\\Z00179\\\\Desktop\\\\Python_Training\\\\Data\\\\Admin_Poly_Simple.shp', 0)\n",
    "layer = datasource.GetLayer()\n",
    "recset = layer.GetNextFeature()\n",
    "while recset:\n",
    "    ID = recset.GetField('ID')\n",
    "    poly = recset.GetGeometryRef()\n",
    "    ring = poly.GetGeometryRef(0) #Outer Ring\n",
    "    for n in range(0, ring.GetPointCount()):\n",
    "        # GetPoint returns a tuple not a Geometry\n",
    "        print(ID, '[%d] POINT (%f %f)'%(n, ring.GetX(n), ring.GetY(n)))\n",
    "     \n",
    "    recset.Destroy()\n",
    "    recset = layer.GetNextFeature()\n",
    "\n",
    "datasource.Destroy()\n"
   ]
  },
  {
   "cell_type": "markdown",
   "metadata": {},
   "source": [
    "## Distance"
   ]
  },
  {
   "cell_type": "code",
   "execution_count": null,
   "metadata": {},
   "outputs": [],
   "source": [
    "import ogr\n",
    "\n",
    "#Merkator@ตึกไทย\n",
    "X1 = 668334.249\n",
    "Y1 = 1517293.049\n",
    "\n",
    "#สวนลุมพินี\n",
    "X2 = 666688.717\n",
    "Y2 = 1518547.977\n",
    "\n",
    "#Point Geometry\n",
    "pt1 = ogr.Geometry(ogr.wkbPoint)\n",
    "pt1.AddPoint(X1, Y1)\n",
    "\n",
    "pt2 = ogr.Geometry(ogr.wkbPoint)\n",
    "pt2.AddPoint(X2, Y2)\n",
    "\n",
    "print('Distance: %f'%pt1.Distance(pt2))"
   ]
  },
  {
   "cell_type": "markdown",
   "metadata": {},
   "source": [
    "## Spatial Reference"
   ]
  },
  {
   "cell_type": "code",
   "execution_count": null,
   "metadata": {},
   "outputs": [],
   "source": [
    "import gdal, ogr, osr\n",
    "\n",
    "gdal.SetConfigOption('SHAPE_ENCODING', 'CP874') #Shape file codepage\n",
    "driver = ogr.GetDriverByName('ESRI Shapefile')\n",
    "datasource = driver.Open('C:\\\\Users\\\\Z00179\\\\Desktop\\\\Python_Training\\\\Data\\\\Admin_Poly_Simple.shp', 0)\n",
    "layer = datasource.GetLayer()\n",
    "\n",
    "srs = layer.GetSpatialRef()\n",
    "print(srs)"
   ]
  },
  {
   "cell_type": "code",
   "execution_count": null,
   "metadata": {},
   "outputs": [],
   "source": [
    "import osr\n",
    "Prj = osr.SpatialReference()\n",
    "\n",
    "Prj.ImportFromEPSG(32647)         #UTM WGS84 Zone 47\n",
    "#Prj.ImportFromEPSG(32648)         #UTM WGS84 Zone 48\n",
    "#Prj.ImportFromEPSG(4326)          #Lat/Long WGS84\n",
    "#Prj.ImportFromEPSG(102113)        #WGS_1984_Web_Mercator\n",
    "\n",
    "if Prj.IsProjected():\n",
    "    print('[PROJCS] %s'%Prj.GetAttrValue('PROJCS'))\n",
    "elif Prj.IsGeographic():\n",
    "    print('[GEOGCS] %s'%Prj.GetAttrValue('GEOGCS'))"
   ]
  },
  {
   "cell_type": "markdown",
   "metadata": {},
   "source": [
    "## List of Shapefile Projection"
   ]
  },
  {
   "cell_type": "code",
   "execution_count": null,
   "metadata": {},
   "outputs": [],
   "source": [
    "import gdal, ogr, osr\n",
    "import glob\n",
    "\n",
    "driver = ogr.GetDriverByName('ESRI Shapefile')\n",
    "for fn in glob.glob('C:\\\\Users\\\\Z00179\\\\Desktop\\\\Python_Training\\\\Data\\\\*.shp'):\n",
    "    datasource =  driver.Open(fn, 0)\n",
    "    layer = datasource.GetLayer()\n",
    "        \n",
    "    srs = layer.GetSpatialRef()\n",
    "    if srs == None:\n",
    "        print(layer.GetName(), 'None')\n",
    "    else:\n",
    "        if srs.IsProjected():\n",
    "            print(layer.GetName(), '[PROJCS] %s'%srs.GetAttrValue('PROJCS'))\n",
    "        elif srs.IsGeographic():\n",
    "            print(layer.GetName(), '[GEOGCS] %s'%srs.GetAttrValue('GEOGCS'))\n",
    "     \n",
    "    datasource.Destroy() "
   ]
  },
  {
   "cell_type": "markdown",
   "metadata": {},
   "source": [
    "## Projection"
   ]
  },
  {
   "cell_type": "code",
   "execution_count": null,
   "metadata": {},
   "outputs": [],
   "source": [
    "import gdal, ogr, osr\n",
    "\n",
    "#Merkator@ตึกไทย (UTM WGS84 Zone47N)\n",
    "X = 668334.249\n",
    "Y = 1517293.049\n",
    "pt = ogr.Geometry(ogr.wkbPoint)\n",
    "pt.AddPoint(X, Y)\n",
    "\n",
    "print('[UTM Zone 47] %f, %f'%(pt.GetX(), pt.GetY()))\n",
    "\n",
    "srcSR = osr.SpatialReference()\n",
    "srcSR.ImportFromEPSG(32647)  #UTM WGS84 Zone47\n",
    "\n",
    "destSR = osr.SpatialReference()\n",
    "destSR.ImportFromEPSG(4326)  #Lat/Long WGS84\n",
    "\n",
    "coorTrans = osr.CoordinateTransformation(srcSR, destSR)\n",
    "pt.Transform(coorTrans)\n",
    "\n",
    "print('[Lat/Long] %f, %f'%(pt.GetX(), pt.GetY()))"
   ]
  },
  {
   "cell_type": "markdown",
   "metadata": {},
   "source": [
    "## Spatial Filter\n",
    "## Building vs. Landmark"
   ]
  },
  {
   "cell_type": "code",
   "execution_count": null,
   "metadata": {},
   "outputs": [],
   "source": [
    "import gdal, ogr, osr\n",
    "import time\n",
    "\n",
    "StartTime = time.time()\n",
    "\n",
    "gdal.SetConfigOption('SHAPE_ENCODING', 'CP874') #Shape file codepage\n",
    "driver = ogr.GetDriverByName('ESRI Shapefile')\n",
    "datasource1 = driver.Open('C:\\\\Users\\\\Z00179\\\\Desktop\\\\Python_Training\\\\Data\\\\Building.shp', 1)\n",
    "layer1 = datasource1.GetLayer()\n",
    "\n",
    "datasource2 = driver.Open('C:\\\\Users\\\\Z00179\\\\Desktop\\\\Python_Training\\\\Data\\\\Landmark.shp', 0)\n",
    "datasource2.ExecuteSQL(\"CREATE SPATIAL INDEX ON Landmark\")\n",
    "StopTime = time.time()\n",
    "print('Build Spatial Index Time Complete: %4.2f Seconds'%(StopTime-StartTime))\n",
    "#Don't forget Create Spatial Index\n",
    "Landmark_LYR = datasource2.GetLayer()\n",
    "\n",
    "recset = layer1.GetNextFeature()\n",
    "while recset:\n",
    "    poly = recset.GetGeometryRef()\n",
    "    ID = recset.GetField('LDM_ID')\n",
    "    \n",
    "    #Default Value\n",
    "    LDM_ID = 0\n",
    "    LDM_Name = ''\n",
    "    LDM_Name_ENG = ''\n",
    "    \n",
    "    #Spatial Filter\n",
    "    Landmark_LYR.SetSpatialFilter(None)\n",
    "    Landmark_LYR.SetSpatialFilter(poly)\n",
    "    feat = Landmark_LYR.GetNextFeature()\n",
    "    while feat:\n",
    "        pt = feat.GetGeometryRef()\n",
    "        if pt.Within(poly):\n",
    "            LDM_ID = feat.GetField('ID')\n",
    "            LDM_Name = feat.GetFieldAsString('NAME')\n",
    "            LDM_Name_ENG = feat.GetFieldAsString('NAME_ENG')\n",
    "        feat.Destroy()\n",
    "        feat = Landmark_LYR.GetNextFeature()\n",
    "        \n",
    "    #Update Fields    \n",
    "    recset.SetField('LDM_ID', LDM_ID)\n",
    "    recset.SetField('NAME', LDM_Name)\n",
    "    recset.SetField('NAME_ENG', LDM_Name_ENG)\n",
    "    layer1.SetFeature(recset)\n",
    "\n",
    "    recset.Destroy()\n",
    "    recset = layer1.GetNextFeature()\n",
    "\n",
    "datasource1.Destroy()\n",
    "datasource2.Destroy()\n",
    "\n",
    "StopTime = time.time()\n",
    "print('Time Complete: %4.2f Seconds'%(StopTime-StartTime))"
   ]
  },
  {
   "cell_type": "markdown",
   "metadata": {},
   "source": [
    "## L_trans vs. Building"
   ]
  },
  {
   "cell_type": "code",
   "execution_count": null,
   "metadata": {},
   "outputs": [],
   "source": [
    "import gdal, ogr, osr\n",
    "import time\n",
    "\n",
    "StartTime = time.time()\n",
    "\n",
    "gdal.SetConfigOption('SHAPE_ENCODING', 'CP874') #Shape file codepage\n",
    "driver = ogr.GetDriverByName('ESRI Shapefile')\n",
    "datasource1 = driver.Open('C:\\\\Users\\\\Z00179\\\\Desktop\\\\Python_Training\\\\Data\\\\L_trans.shp', 0)\n",
    "layer1 = datasource1.GetLayer()\n",
    "\n",
    "datasource2 = driver.Open('C:\\\\Users\\\\Z00179\\\\Desktop\\\\Python_Training\\\\Data\\\\Building.shp', 0)\n",
    "datasource2.ExecuteSQL(\"CREATE SPATIAL INDEX ON Building\")\n",
    "StopTime = time.time()\n",
    "print('Build Index Time Complete: %4.2f Seconds'%(StopTime-StartTime))\n",
    "#Don't forget Create Spatial Index\n",
    "layer2 = datasource2.GetLayer()\n",
    "\n",
    "recset = layer1.GetNextFeature()\n",
    "while recset:\n",
    "    ln = recset.GetGeometryRef()\n",
    "    ID = recset.GetField('ID')\n",
    "    Road_Class =  recset.GetField('RDLNCLASS')\n",
    "    #Spatial Filter\n",
    "    layer2.SetSpatialFilter(None)\n",
    "    layer2.SetSpatialFilter(ln)\n",
    "    feat = layer2.GetNextFeature()\n",
    "    while feat:\n",
    "        poly = feat.GetGeometryRef()\n",
    "        if ln.Intersect(poly) and not(Road_Class == 61):\n",
    "            int_ln = ln.Intersection(poly)\n",
    "            if int_ln.Length() >= (ln.Length() / 2.0):\n",
    "                print(\"[ID=%d] L_trans intersect Building \"%ID)\n",
    "                break\n",
    "        feat.Destroy()\n",
    "        feat = layer2.GetNextFeature()\n",
    "\n",
    "    recset.Destroy()\n",
    "    recset = layer1.GetNextFeature()\n",
    "\n",
    "datasource1.Destroy()\n",
    "datasource2.Destroy()\n",
    "\n",
    "StopTime = time.time()\n",
    "print('Time Complete: %4.2f Seconds'%(StopTime-StartTime))"
   ]
  },
  {
   "cell_type": "code",
   "execution_count": null,
   "metadata": {},
   "outputs": [],
   "source": []
  }
 ],
 "metadata": {
  "kernelspec": {
   "display_name": "Python 3 (ipykernel)",
   "language": "python",
   "name": "python3"
  },
  "language_info": {
   "codemirror_mode": {
    "name": "ipython",
    "version": 3
   },
   "file_extension": ".py",
   "mimetype": "text/x-python",
   "name": "python",
   "nbconvert_exporter": "python",
   "pygments_lexer": "ipython3",
   "version": "3.8.10"
  }
 },
 "nbformat": 4,
 "nbformat_minor": 2
}
