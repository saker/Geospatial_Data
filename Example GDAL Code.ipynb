{
 "cells": [
  {
   "cell_type": "markdown",
   "metadata": {
    "collapsed": true
   },
   "source": [
    "# Introduction to Geospatial Data Analysis with GDAL"
   ]
  },
  {
   "cell_type": "markdown",
   "metadata": {},
   "source": [
    "## Reference\n",
    "GDAL Class\n",
    "https://gdal.org/python/osgeo.ogr-module.html"
   ]
  },
  {
   "cell_type": "markdown",
   "metadata": {
    "collapsed": true
   },
   "source": [
    "# Ex.1: Create New Shapefile\n",
    "## Warning Case : Thai Language Codepage"
   ]
  },
  {
   "cell_type": "code",
   "execution_count": null,
   "metadata": {
    "collapsed": true
   },
   "outputs": [],
   "source": [
    "#-*-coding:UTF-8-*-\n",
    "\n",
    "import gdal, ogr, osr\n",
    "import os\n",
    "\n",
    "#(1) Define Datasource (Shapefile filename)\n",
    "gdal.SetConfigOption('SHAPE_ENCODING', '') #Always Use\n",
    "driver = ogr.GetDriverByName('ESRI Shapefile')\n",
    "layername = 'New_Point'\n",
    "output_path = 'D:\\\\Conversion_Area\\\\Python_Training\\\\Data\\\\'\n",
    "output_fn = output_path + layername + '.shp'\n",
    "#Check Existing Shapefile \n",
    "if os.path.exists(output_fn):\n",
    "    driver.DeleteDataSource(output_fn)\n",
    "datasource = driver.CreateDataSource(output_fn)\n",
    "    \n",
    "#(2) Define Projection\n",
    "Prj = osr.SpatialReference()\n",
    "Prj.ImportFromEPSG(32647)         #UTM WGS84 Zone 47\n",
    "#Prj.ImportFromEPSG(4326)         #Lat/Long WGS84\n",
    "\n",
    "#(3) Create Layer\n",
    "layer = datasource.CreateLayer(layername, srs=Prj, geom_type=ogr.wkbPoint, options=['ENCODING=LDID/0'])\n",
    "#layer = datasource.CreateLayer(layername, srs=Prj, geom_type=ogr.wkbPoint) #Not Use\n",
    "\n",
    "#(4) Define Encoding & Create CPG file\n",
    "outcpgfile = output_fn.replace('.shp','.cpg')\n",
    "cpgfile = open(outcpgfile,'w')\n",
    "#cpgfile.write('UTF-8')\n",
    "cpgfile.write('OEM 874')\n",
    "cpgfile.close()\n",
    "    \n",
    "#(5) Define Fields\n",
    "fldDef = ogr.FieldDefn('ID', ogr.OFTInteger)\n",
    "fldDef.SetWidth(10)\n",
    "layer.CreateField(fldDef)\n",
    "fldDef.Destroy()\n",
    "\n",
    "fldDef = ogr.FieldDefn('NAME', ogr.OFTString)\n",
    "fldDef.SetWidth(100)\n",
    "layer.CreateField(fldDef)\n",
    "fldDef.Destroy()\n",
    "\n",
    "fldDef = ogr.FieldDefn('NAME_ENG', ogr.OFTString)\n",
    "fldDef.SetWidth(100)\n",
    "layer.CreateField(fldDef)\n",
    "fldDef.Destroy()\n",
    "\n",
    "fldDef = ogr.FieldDefn('X', ogr.OFTReal)\n",
    "fldDef.SetWidth(13)\n",
    "fldDef.SetPrecision(3)\n",
    "layer.CreateField(fldDef)\n",
    "fldDef.Destroy()\n",
    "\n",
    "fldDef = ogr.FieldDefn('Y', ogr.OFTReal)\n",
    "fldDef.SetWidth(13)\n",
    "fldDef.SetPrecision(3)\n",
    "layer.CreateField(fldDef)\n",
    "fldDef.Destroy()\n",
    "\n",
    "#(6) Create Feature(Record)\n",
    "#Merkator@ตึกไทย\n",
    "X = 668334.249\n",
    "Y = 1517293.049\n",
    "feature = ogr.Feature(layer.GetLayerDefn())\n",
    "pt = ogr.Geometry(ogr.wkbPoint)\n",
    "pt.AddPoint(X, Y)\n",
    "feature.SetGeometry(pt)\n",
    "feature.SetField('ID', 1)\n",
    "#feature.SetField('NAME', 'บริษัทเมอร์เคเทอร์ จำกัด'.decode('UTF8').encode('CP874'))\n",
    "feature.SetField('NAME', u'บริษัทเมอร์เคเทอร์ จำกัด'.encode('CP874'))\n",
    "#feature.SetField('NAME', 'บริษัทเมอร์เคเทอร์ จำกัด')\n",
    "feature.SetField('NAME_ENG', 'Merkator Co., Ltd.')\n",
    "feature.SetField('X', X)\n",
    "feature.SetField('Y', Y)\n",
    "layer.CreateFeature(feature)\n",
    "pt.Destroy()\n",
    "feature.Destroy()\n",
    "\n",
    "datasource.Destroy()\n",
    "print 'Create Shapefile Complete!'"
   ]
  },
  {
   "cell_type": "markdown",
   "metadata": {},
   "source": [
    "# Ex.2: Create Centroid from Polygon Layer"
   ]
  },
  {
   "cell_type": "code",
   "execution_count": null,
   "metadata": {
    "collapsed": true
   },
   "outputs": [],
   "source": [
    "#-*-coding:UTF-8-*-\n",
    "\n",
    "import gdal, ogr, osr\n",
    "import os"
   ]
  },
  {
   "cell_type": "markdown",
   "metadata": {},
   "source": [
    "## Create Shapefile Module"
   ]
  },
  {
   "cell_type": "code",
   "execution_count": null,
   "metadata": {
    "collapsed": true
   },
   "outputs": [],
   "source": [
    "def CreateShapefile(output_path, layername, Prj, ShapeType):\n",
    "    #(1) Define Datasource (Shapefile filename)\n",
    "    gdal.SetConfigOption('SHAPE_ENCODING', '')\n",
    "    driver = ogr.GetDriverByName('ESRI Shapefile')\n",
    "    output_fn = output_path + layername + '.shp'\n",
    "    #Check Existing Shapefile \n",
    "    if os.path.exists(output_fn):\n",
    "        driver.DeleteDataSource(output_fn)\n",
    "    datasource = driver.CreateDataSource(output_fn)\n",
    "\n",
    "    #(2) Create Layer\n",
    "    layer = datasource.CreateLayer(layername, srs=Prj, geom_type=ShapeType, options=['ENCODING=LDID/0'])\n",
    "\n",
    "    #(3) Define Encoding & Create CPG file\n",
    "    outcpgfile = output_fn.replace('.shp','.cpg')\n",
    "    cpgfile = open(outcpgfile,'w')\n",
    "    cpgfile.write('OEM 874')\n",
    "    cpgfile.close()\n",
    "    \n",
    "    #(4) Define Fields\n",
    "    fldDef = ogr.FieldDefn('ID', ogr.OFTInteger)\n",
    "    fldDef.SetWidth(10)\n",
    "    layer.CreateField(fldDef)\n",
    "    fldDef.Destroy()\n",
    "\n",
    "    fldDef = ogr.FieldDefn('NAME1', ogr.OFTString)\n",
    "    fldDef.SetWidth(100)\n",
    "    layer.CreateField(fldDef)\n",
    "    fldDef.Destroy()\n",
    "    \n",
    "    fldDef = ogr.FieldDefn('NAME2', ogr.OFTString)\n",
    "    fldDef.SetWidth(100)\n",
    "    layer.CreateField(fldDef)\n",
    "    fldDef.Destroy()\n",
    "    \n",
    "    fldDef = ogr.FieldDefn('NAME3', ogr.OFTString)\n",
    "    fldDef.SetWidth(100)\n",
    "    layer.CreateField(fldDef)\n",
    "    fldDef.Destroy()\n",
    "        \n",
    "    return datasource, layer"
   ]
  },
  {
   "cell_type": "markdown",
   "metadata": {},
   "source": [
    "## Main Module"
   ]
  },
  {
   "cell_type": "code",
   "execution_count": null,
   "metadata": {
    "collapsed": true
   },
   "outputs": [],
   "source": [
    "#(1) Assign Admin_Poly Layer (Polygon Feature) <Input Layer>\n",
    "driver = ogr.GetDriverByName('ESRI Shapefile')\n",
    "working_path = 'D:\\\\Conversion_Area\\\\Python_Training\\\\Data\\\\'\n",
    "datasource = driver.Open(working_path+ 'Admin_BKK.shp', 0)\n",
    "layer = datasource.GetLayer()\n",
    "Source_SRF =  layer.GetSpatialRef()\n",
    "\n",
    "#(2) Assign Centroid Shapefile (Point Feature) <Output Layer>\n",
    "layername = 'Admin_Centroid'\n",
    "ds, OutputLYR = CreateShapefile(working_path, layername, Source_SRF, ogr.wkbPoint)\n",
    "    \n",
    "#(3) Loop Input Layer\n",
    "recset = layer.GetNextFeature()\n",
    "record = 0\n",
    "while recset:\n",
    "    geom = recset.GetGeometryRef()\n",
    "    record +=1    \n",
    "    #(4) Create Feature(Record)\n",
    "    feature = ogr.Feature(OutputLYR.GetLayerDefn())\n",
    "    Centroid = geom.Centroid()\n",
    "    feature.SetGeometry(Centroid)\n",
    "    feature.SetField('ID', record)\n",
    "    feature.SetField('NAME1', recset.GetFieldAsString('NAME1').decode('CP874').encode('CP874'))\n",
    "    feature.SetField('NAME2', recset.GetFieldAsString('NAME2').decode('CP874').encode('CP874'))\n",
    "    feature.SetField('NAME3', recset.GetFieldAsString('NAME3').decode('CP874').encode('CP874'))\n",
    "    OutputLYR.CreateFeature(feature)\n",
    "    feature.Destroy()\n",
    "\n",
    "    recset.Destroy()\n",
    "    recset = layer.GetNextFeature()\n",
    "\n",
    "datasource.Destroy()\n",
    "ds.Destroy()\n",
    "\n",
    "print 'Generate Centroid Complete!'"
   ]
  },
  {
   "cell_type": "markdown",
   "metadata": {
    "collapsed": true
   },
   "source": [
    "# Ex.3: Add Fields & Update Attribute in Existing Shapefile"
   ]
  },
  {
   "cell_type": "code",
   "execution_count": null,
   "metadata": {
    "collapsed": true
   },
   "outputs": [],
   "source": [
    "#-*-coding:UTF-8-*-\n",
    "\n",
    "import gdal, ogr, osr\n",
    "import os\n",
    "\n",
    "#(1) Assign Existing Layer\n",
    "driver = ogr.GetDriverByName('ESRI Shapefile')\n",
    "working_path = 'D:\\\\Conversion_Area\\\\Python_Training\\\\Data\\\\'\n",
    "datasource = driver.Open(working_path + 'L_trans_sample.shp', 1)\n",
    "layer = datasource.GetLayer()\n",
    "    \n",
    "#(2) Add New Fields\n",
    "fldDef = ogr.FieldDefn('MINUTES', ogr.OFTReal)\n",
    "fldDef.SetWidth(9)\n",
    "fldDef.SetPrecision(3)\n",
    "layer.CreateField(fldDef)\n",
    "fldDef.Destroy()\n",
    "\n",
    "#(3) Loop on Exiting Shapefile\n",
    "record = 0\n",
    "recset = layer.GetNextFeature()\n",
    "while recset:\n",
    "    record += 1\n",
    "    geom = recset.GetGeometryRef()\n",
    "    AVG_Speed = recset.GetField('AVG_SPEED')\n",
    "    Meters = recset.GetField('LENGTH')\n",
    "    Minutes = (Meters * 60) / (AVG_Speed * 1000.0)\n",
    "    \n",
    "    #(4) Update Fields    \n",
    "    recset.SetField('MINUTES', Minutes)\n",
    "    layer.SetFeature(recset)\n",
    "\n",
    "    recset.Destroy()\n",
    "    recset = layer.GetNextFeature()\n",
    "\n",
    "datasource.Destroy()\n",
    "\n",
    "print 'Update Field Complete!'"
   ]
  },
  {
   "cell_type": "markdown",
   "metadata": {},
   "source": [
    "# Ex.4: Change Fields Name/ Delete Fields in Existing Shapefile"
   ]
  },
  {
   "cell_type": "code",
   "execution_count": null,
   "metadata": {
    "collapsed": true
   },
   "outputs": [],
   "source": [
    "#-*-coding:UTF-8-*-\n",
    "\n",
    "import gdal, ogr, osr\n",
    "import os\n",
    "\n",
    "#(1) Assign Existing Layer\n",
    "driver = ogr.GetDriverByName('ESRI Shapefile')\n",
    "working_path = 'D:\\\\Conversion_Area\\\\Python_Training\\\\Data\\\\'\n",
    "datasource = driver.Open(working_path + 'Landmark_sample_bak.shp', 1)\n",
    "layer = datasource.GetLayer()\n",
    "\n",
    "#(2) Change Fields Name (Mu --> Village_No)\n",
    "n = layer.GetLayerDefn().GetFieldIndex('MU')\n",
    "fldDef = ogr.FieldDefn('VILLAGE_NO', ogr.OFTString)\n",
    "layer.AlterFieldDefn(n, fldDef, ogr.ALTER_NAME_FLAG)\n",
    "\n",
    "#(3) Change Fields Width/Precision (Region[String20] --> Region[String50])\n",
    "n = layer.GetLayerDefn().GetFieldIndex('REGION')\n",
    "fldDef.SetWidth(50)\n",
    "layer.AlterFieldDefn(n, fldDef, ogr.ALTER_WIDTH_PRECISION_FLAG)\n",
    "\n",
    "#(4) Change Fields Type\n",
    "n = layer.GetLayerDefn().GetFieldIndex('CITY_CODE')\n",
    "fldDef = ogr.FieldDefn('CITY_CODE', ogr.OFTString)\n",
    "layer.AlterFieldDefn(n, fldDef, ogr.ALTER_TYPE_FLAG)\n",
    "\n",
    "#(5) Delete Fields\n",
    "layer.DeleteField(layer.GetLayerDefn().GetFieldIndex('LO_CODE_2'))\n",
    "layer.DeleteField(layer.GetLayerDefn().GetFieldIndex('LO_CODE_3'))\n",
    "layer.DeleteField(layer.GetLayerDefn().GetFieldIndex('LO_CODE_4'))\n",
    "layer.DeleteField(layer.GetLayerDefn().GetFieldIndex('LO_CODE_5'))\n",
    "    \n",
    "datasource.Destroy()\n",
    "\n",
    "print 'Change Field Complete!'"
   ]
  },
  {
   "cell_type": "markdown",
   "metadata": {},
   "source": [
    "# Ex.5: Export to New Shapefile Base on Attribute"
   ]
  },
  {
   "cell_type": "code",
   "execution_count": null,
   "metadata": {
    "collapsed": true
   },
   "outputs": [],
   "source": [
    "#-*-coding:UTF-8-*-\n",
    "\n",
    "import gdal, ogr, osr\n",
    "import os\n",
    "\n",
    "#(1) Assign Existing Layer\n",
    "gdal.SetConfigOption('SHAPE_ENCODING', '')\n",
    "driver = ogr.GetDriverByName('ESRI Shapefile')\n",
    "working_path = 'D:\\\\Conversion_Area\\\\Python_Training\\\\Data\\\\'\n",
    "datasource = driver.Open(working_path + 'Landmark_sample.shp', 0)\n",
    "layer = datasource.GetLayer()\n",
    "\n",
    "#(2) Select Attribute Filter (ATM)\n",
    "layer.SetAttributeFilter(\"POI_CODE = 9102\")\n",
    "\n",
    "#(3) Create Output Datasource\n",
    "out_fn = working_path + 'ATM.shp'\n",
    "out_datasource = driver.CreateDataSource(out_fn)\n",
    "out_layer = out_datasource.CopyLayer(layer, out_fn, options=['ENCODING=LDID/0'])\n",
    "\n",
    "#(4) Define Encoding & Create CPG file\n",
    "outcpgfile = out_fn.replace('.shp','.cpg')\n",
    "cpgfile = open(outcpgfile,'w')\n",
    "cpgfile.write('OEM 874')\n",
    "cpgfile.close()\n",
    "\n",
    "datasource.Destroy()\n",
    "out_datasource.Destroy()\n",
    "\n",
    "print 'Export Shapefile Complete!'"
   ]
  }
 ],
 "metadata": {
  "kernelspec": {
   "display_name": "Python 2",
   "language": "python",
   "name": "python2"
  },
  "language_info": {
   "codemirror_mode": {
    "name": "ipython",
    "version": 2
   },
   "file_extension": ".py",
   "mimetype": "text/x-python",
   "name": "python",
   "nbconvert_exporter": "python",
   "pygments_lexer": "ipython2",
   "version": "2.7.13"
  }
 },
 "nbformat": 4,
 "nbformat_minor": 2
}
